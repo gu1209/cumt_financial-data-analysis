{
 "cells": [
  {
   "cell_type": "markdown",
   "id": "fba54703",
   "metadata": {},
   "source": [
    "#### R包的导入及数据的获取与预处理"
   ]
  },
  {
   "cell_type": "code",
   "execution_count": 159,
   "id": "5ef7e648",
   "metadata": {},
   "outputs": [],
   "source": [
    "options(warn=-1)"
   ]
  },
  {
   "cell_type": "code",
   "execution_count": 160,
   "id": "03f60359",
   "metadata": {},
   "outputs": [],
   "source": [
    "library(lubridate)\n",
    "library(xts)\n",
    "library(quantmod)\n",
    "library(Tushare)\n",
    "library(TSA)\n",
    "library(fUnitRoots)\n",
    "library(urca)\n",
    "library(fBasics)\n",
    "library(forecast)\n",
    "library(FinTS)\n",
    "library(fGarch)\n",
    "library(rugarch)\n",
    "\n",
    "\n"
   ]
  },
  {
   "cell_type": "code",
   "execution_count": 161,
   "id": "8e5c1212",
   "metadata": {},
   "outputs": [],
   "source": [
    "api<-pro_api(token=\"731ee2eafa47ae6b8c98993e8b30001b51bd3085cd69d63870e745c9\")\n",
    "xcdl<-api(api_name ='daily',ts_code ='600505.SH',start_date='20170101',end_date='20220101')\n",
    "time<-as.Date(ymd(xcdl$trade_date))\n",
    "xcdl_close_price<-xts(xcdl$close,order.by=time)\n",
    "xcdl_logreturn<-dailyReturn(xcdl_close_price,type='log')[-1]\n",
    "time=index(xcdl_logreturn)"
   ]
  },
  {
   "cell_type": "markdown",
   "id": "ed253291",
   "metadata": {},
   "source": [
    "# 运用选取的股票进行收益率及其波动特征分析与建模"
   ]
  },
  {
   "cell_type": "markdown",
   "id": "f2d2caf2",
   "metadata": {},
   "source": [
    "## 分析股票对数收益率序列的基本统计特征以及其序列相关性与独立性"
   ]
  },
  {
   "cell_type": "markdown",
   "id": "21972297",
   "metadata": {},
   "source": [
    "### 对数收益率序列基本统计特征"
   ]
  },
  {
   "cell_type": "code",
   "execution_count": 162,
   "id": "41ec3c5c",
   "metadata": {},
   "outputs": [
    {
     "data": {
      "text/html": [
       "<table class=\"dataframe\">\n",
       "<caption>A data.frame: 16 × 1</caption>\n",
       "<thead>\n",
       "\t<tr><th></th><th scope=col>daily.returns</th></tr>\n",
       "\t<tr><th></th><th scope=col>&lt;dbl&gt;</th></tr>\n",
       "</thead>\n",
       "<tbody>\n",
       "\t<tr><th scope=row>nobs</th><td>1216.000000</td></tr>\n",
       "\t<tr><th scope=row>NAs</th><td>   0.000000</td></tr>\n",
       "\t<tr><th scope=row>Minimum</th><td>  -0.105956</td></tr>\n",
       "\t<tr><th scope=row>Maximum</th><td>   0.095955</td></tr>\n",
       "\t<tr><th scope=row>1. Quartile</th><td>  -0.013784</td></tr>\n",
       "\t<tr><th scope=row>3. Quartile</th><td>   0.012414</td></tr>\n",
       "\t<tr><th scope=row>Mean</th><td>   0.000013</td></tr>\n",
       "\t<tr><th scope=row>Median</th><td>   0.000000</td></tr>\n",
       "\t<tr><th scope=row>Sum</th><td>   0.015341</td></tr>\n",
       "\t<tr><th scope=row>SE Mean</th><td>   0.000781</td></tr>\n",
       "\t<tr><th scope=row>LCL Mean</th><td>  -0.001520</td></tr>\n",
       "\t<tr><th scope=row>UCL Mean</th><td>   0.001546</td></tr>\n",
       "\t<tr><th scope=row>Variance</th><td>   0.000743</td></tr>\n",
       "\t<tr><th scope=row>Stdev</th><td>   0.027249</td></tr>\n",
       "\t<tr><th scope=row>Skewness</th><td>   0.222354</td></tr>\n",
       "\t<tr><th scope=row>Kurtosis</th><td>   2.818264</td></tr>\n",
       "</tbody>\n",
       "</table>\n"
      ],
      "text/latex": [
       "A data.frame: 16 × 1\n",
       "\\begin{tabular}{r|l}\n",
       "  & daily.returns\\\\\n",
       "  & <dbl>\\\\\n",
       "\\hline\n",
       "\tnobs & 1216.000000\\\\\n",
       "\tNAs &    0.000000\\\\\n",
       "\tMinimum &   -0.105956\\\\\n",
       "\tMaximum &    0.095955\\\\\n",
       "\t1. Quartile &   -0.013784\\\\\n",
       "\t3. Quartile &    0.012414\\\\\n",
       "\tMean &    0.000013\\\\\n",
       "\tMedian &    0.000000\\\\\n",
       "\tSum &    0.015341\\\\\n",
       "\tSE Mean &    0.000781\\\\\n",
       "\tLCL Mean &   -0.001520\\\\\n",
       "\tUCL Mean &    0.001546\\\\\n",
       "\tVariance &    0.000743\\\\\n",
       "\tStdev &    0.027249\\\\\n",
       "\tSkewness &    0.222354\\\\\n",
       "\tKurtosis &    2.818264\\\\\n",
       "\\end{tabular}\n"
      ],
      "text/markdown": [
       "\n",
       "A data.frame: 16 × 1\n",
       "\n",
       "| <!--/--> | daily.returns &lt;dbl&gt; |\n",
       "|---|---|\n",
       "| nobs | 1216.000000 |\n",
       "| NAs |    0.000000 |\n",
       "| Minimum |   -0.105956 |\n",
       "| Maximum |    0.095955 |\n",
       "| 1. Quartile |   -0.013784 |\n",
       "| 3. Quartile |    0.012414 |\n",
       "| Mean |    0.000013 |\n",
       "| Median |    0.000000 |\n",
       "| Sum |    0.015341 |\n",
       "| SE Mean |    0.000781 |\n",
       "| LCL Mean |   -0.001520 |\n",
       "| UCL Mean |    0.001546 |\n",
       "| Variance |    0.000743 |\n",
       "| Stdev |    0.027249 |\n",
       "| Skewness |    0.222354 |\n",
       "| Kurtosis |    2.818264 |\n",
       "\n"
      ],
      "text/plain": [
       "            daily.returns\n",
       "nobs        1216.000000  \n",
       "NAs            0.000000  \n",
       "Minimum       -0.105956  \n",
       "Maximum        0.095955  \n",
       "1. Quartile   -0.013784  \n",
       "3. Quartile    0.012414  \n",
       "Mean           0.000013  \n",
       "Median         0.000000  \n",
       "Sum            0.015341  \n",
       "SE Mean        0.000781  \n",
       "LCL Mean      -0.001520  \n",
       "UCL Mean       0.001546  \n",
       "Variance       0.000743  \n",
       "Stdev          0.027249  \n",
       "Skewness       0.222354  \n",
       "Kurtosis       2.818264  "
      ]
     },
     "metadata": {},
     "output_type": "display_data"
    }
   ],
   "source": [
    "basicStats(xcdl_logreturn)"
   ]
  },
  {
   "cell_type": "markdown",
   "id": "939f8165",
   "metadata": {},
   "source": [
    "#### 收益率序列基本统计特征如表所示"
   ]
  },
  {
   "cell_type": "markdown",
   "id": "efc1cc46",
   "metadata": {},
   "source": [
    "### 相关性与独立性检验"
   ]
  },
  {
   "cell_type": "code",
   "execution_count": 163,
   "id": "3b797532",
   "metadata": {},
   "outputs": [
    {
     "data": {
      "text/plain": [
       "\n",
       "\tBox-Pierce test\n",
       "\n",
       "data:  xcdl_logreturn\n",
       "X-squared = 2.5134, df = 1, p-value = 0.1129\n"
      ]
     },
     "metadata": {},
     "output_type": "display_data"
    }
   ],
   "source": [
    "Box.test(xcdl_logreturn)"
   ]
  },
  {
   "cell_type": "markdown",
   "id": "87f265c6",
   "metadata": {},
   "source": [
    "#### Box检验显示接受原假设，即认为对数收益率序列不存在自相关"
   ]
  },
  {
   "cell_type": "code",
   "execution_count": 164,
   "id": "c680d424",
   "metadata": {},
   "outputs": [
    {
     "data": {
      "image/png": "[encoded data removed]",
      "text/plain": [
       "Plot with title \"Series abs(xcdl_logreturn)\""
      ]
     },
     "metadata": {
      "image/png": {
       "height": 420,
       "width": 420
      }
     },
     "output_type": "display_data"
    }
   ],
   "source": [
    "par(mfrow=c(2,1))\n",
    "acf(xcdl_logreturn)\n",
    "acf(abs(xcdl_logreturn))"
   ]
  },
  {
   "cell_type": "markdown",
   "id": "e0101548",
   "metadata": {},
   "source": [
    "#### 对数收益率仅在9阶之后有一个超过两倍标准差的相关，其绝对值序列有多个值在界限之外，表明收益率序列不存在独立性"
   ]
  },
  {
   "cell_type": "markdown",
   "id": "6a875c5d",
   "metadata": {},
   "source": [
    "## 选择合适的线性模型刻画收益率序列作为波动率模型中的均值方程，描述其残差序列的基本特征并运用多种方法进行 ARCH 效应的检验"
   ]
  },
  {
   "cell_type": "markdown",
   "id": "323f0cf2",
   "metadata": {},
   "source": [
    "### 建立均值方差"
   ]
  },
  {
   "cell_type": "markdown",
   "id": "3394318b",
   "metadata": {},
   "source": [
    "#### 由于收益率序列不具有自相关性，采取方法一建立均值方程"
   ]
  },
  {
   "cell_type": "code",
   "execution_count": 165,
   "id": "58abd910",
   "metadata": {},
   "outputs": [],
   "source": [
    "xcdl_mean<-xcdl_logreturn-mean(xcdl_logreturn)"
   ]
  },
  {
   "cell_type": "markdown",
   "id": "cf9ad83d",
   "metadata": {},
   "source": [
    "### 残差的基本特征"
   ]
  },
  {
   "cell_type": "code",
   "execution_count": 166,
   "id": "9d920b24",
   "metadata": {},
   "outputs": [
    {
     "data": {
      "text/html": [
       "<table class=\"dataframe\">\n",
       "<caption>A data.frame: 16 × 1</caption>\n",
       "<thead>\n",
       "\t<tr><th></th><th scope=col>daily.returns</th></tr>\n",
       "\t<tr><th></th><th scope=col>&lt;dbl&gt;</th></tr>\n",
       "</thead>\n",
       "<tbody>\n",
       "\t<tr><th scope=row>nobs</th><td>1216.000000</td></tr>\n",
       "\t<tr><th scope=row>NAs</th><td>   0.000000</td></tr>\n",
       "\t<tr><th scope=row>Minimum</th><td>  -0.105969</td></tr>\n",
       "\t<tr><th scope=row>Maximum</th><td>   0.095942</td></tr>\n",
       "\t<tr><th scope=row>1. Quartile</th><td>  -0.013796</td></tr>\n",
       "\t<tr><th scope=row>3. Quartile</th><td>   0.012402</td></tr>\n",
       "\t<tr><th scope=row>Mean</th><td>   0.000000</td></tr>\n",
       "\t<tr><th scope=row>Median</th><td>  -0.000013</td></tr>\n",
       "\t<tr><th scope=row>Sum</th><td>   0.000000</td></tr>\n",
       "\t<tr><th scope=row>SE Mean</th><td>   0.000781</td></tr>\n",
       "\t<tr><th scope=row>LCL Mean</th><td>  -0.001533</td></tr>\n",
       "\t<tr><th scope=row>UCL Mean</th><td>   0.001533</td></tr>\n",
       "\t<tr><th scope=row>Variance</th><td>   0.000743</td></tr>\n",
       "\t<tr><th scope=row>Stdev</th><td>   0.027249</td></tr>\n",
       "\t<tr><th scope=row>Skewness</th><td>   0.222354</td></tr>\n",
       "\t<tr><th scope=row>Kurtosis</th><td>   2.818264</td></tr>\n",
       "</tbody>\n",
       "</table>\n"
      ],
      "text/latex": [
       "A data.frame: 16 × 1\n",
       "\\begin{tabular}{r|l}\n",
       "  & daily.returns\\\\\n",
       "  & <dbl>\\\\\n",
       "\\hline\n",
       "\tnobs & 1216.000000\\\\\n",
       "\tNAs &    0.000000\\\\\n",
       "\tMinimum &   -0.105969\\\\\n",
       "\tMaximum &    0.095942\\\\\n",
       "\t1. Quartile &   -0.013796\\\\\n",
       "\t3. Quartile &    0.012402\\\\\n",
       "\tMean &    0.000000\\\\\n",
       "\tMedian &   -0.000013\\\\\n",
       "\tSum &    0.000000\\\\\n",
       "\tSE Mean &    0.000781\\\\\n",
       "\tLCL Mean &   -0.001533\\\\\n",
       "\tUCL Mean &    0.001533\\\\\n",
       "\tVariance &    0.000743\\\\\n",
       "\tStdev &    0.027249\\\\\n",
       "\tSkewness &    0.222354\\\\\n",
       "\tKurtosis &    2.818264\\\\\n",
       "\\end{tabular}\n"
      ],
      "text/markdown": [
       "\n",
       "A data.frame: 16 × 1\n",
       "\n",
       "| <!--/--> | daily.returns &lt;dbl&gt; |\n",
       "|---|---|\n",
       "| nobs | 1216.000000 |\n",
       "| NAs |    0.000000 |\n",
       "| Minimum |   -0.105969 |\n",
       "| Maximum |    0.095942 |\n",
       "| 1. Quartile |   -0.013796 |\n",
       "| 3. Quartile |    0.012402 |\n",
       "| Mean |    0.000000 |\n",
       "| Median |   -0.000013 |\n",
       "| Sum |    0.000000 |\n",
       "| SE Mean |    0.000781 |\n",
       "| LCL Mean |   -0.001533 |\n",
       "| UCL Mean |    0.001533 |\n",
       "| Variance |    0.000743 |\n",
       "| Stdev |    0.027249 |\n",
       "| Skewness |    0.222354 |\n",
       "| Kurtosis |    2.818264 |\n",
       "\n"
      ],
      "text/plain": [
       "            daily.returns\n",
       "nobs        1216.000000  \n",
       "NAs            0.000000  \n",
       "Minimum       -0.105969  \n",
       "Maximum        0.095942  \n",
       "1. Quartile   -0.013796  \n",
       "3. Quartile    0.012402  \n",
       "Mean           0.000000  \n",
       "Median        -0.000013  \n",
       "Sum            0.000000  \n",
       "SE Mean        0.000781  \n",
       "LCL Mean      -0.001533  \n",
       "UCL Mean       0.001533  \n",
       "Variance       0.000743  \n",
       "Stdev          0.027249  \n",
       "Skewness       0.222354  \n",
       "Kurtosis       2.818264  "
      ]
     },
     "metadata": {},
     "output_type": "display_data"
    }
   ],
   "source": [
    "basicStats(xcdl_mean)"
   ]
  },
  {
   "cell_type": "markdown",
   "id": "8ee8343b",
   "metadata": {},
   "source": [
    "###  ARCH 效应检验"
   ]
  },
  {
   "cell_type": "code",
   "execution_count": 167,
   "id": "836781e9",
   "metadata": {},
   "outputs": [
    {
     "data": {
      "image/png": "[encoded data removed]",
      "text/plain": [
       "Plot with title \"Series  resid1\""
      ]
     },
     "metadata": {
      "image/png": {
       "height": 420,
       "width": 420
      }
     },
     "output_type": "display_data"
    }
   ],
   "source": [
    "par(mfrow=c(2,1))\n",
    "resid1=xcdl_mean^2\n",
    "acf(resid1)\n",
    "pacf(resid1)"
   ]
  },
  {
   "cell_type": "markdown",
   "id": "25cf4877",
   "metadata": {},
   "source": [
    "#### 从残差平方序列自相关图与偏自相关图来看，残差序列在滞后多阶之后依然超过界限值，序列不平稳，存在ARCH效应"
   ]
  },
  {
   "cell_type": "code",
   "execution_count": 168,
   "id": "cdf536d2",
   "metadata": {},
   "outputs": [
    {
     "data": {
      "text/plain": [
       "\n",
       "\tBox-Pierce test\n",
       "\n",
       "data:  resid1\n",
       "X-squared = 52.622, df = 1, p-value = 4.042e-13\n"
      ]
     },
     "metadata": {},
     "output_type": "display_data"
    }
   ],
   "source": [
    "Box.test(resid1)"
   ]
  },
  {
   "cell_type": "markdown",
   "id": "ed23354d",
   "metadata": {},
   "source": [
    "#### BOX检验p值为4.04*10^-14，拒绝原假设，即残差序列存在自相关，存在ARCH效应"
   ]
  },
  {
   "cell_type": "code",
   "execution_count": 169,
   "id": "56e44d51",
   "metadata": {},
   "outputs": [
    {
     "data": {
      "image/png": "[encoded data removed]",
      "text/plain": [
       "plot without title"
      ]
     },
     "metadata": {
      "image/png": {
       "height": 420,
       "width": 420
      }
     },
     "output_type": "display_data"
    }
   ],
   "source": [
    "McLeod.Li.test(y=resid1)"
   ]
  },
  {
   "cell_type": "markdown",
   "id": "340b7eb2",
   "metadata": {},
   "source": [
    "#### McLeod.Li检验结果显示，西昌电力的股价存在ARCH效应"
   ]
  },
  {
   "cell_type": "code",
   "execution_count": 170,
   "id": "c72dcb80",
   "metadata": {},
   "outputs": [
    {
     "data": {
      "text/plain": [
       "\n",
       "\tARCH LM-test; Null hypothesis: no ARCH effects\n",
       "\n",
       "data:  resid1\n",
       "Chi-squared = 51.854, df = 12, p-value = 6.581e-07\n"
      ]
     },
     "metadata": {},
     "output_type": "display_data"
    }
   ],
   "source": [
    "ArchTest(resid1,lag=12)"
   ]
  },
  {
   "cell_type": "markdown",
   "id": "9c510590",
   "metadata": {},
   "source": [
    "#### p值显著趋于0，拒绝原假设，即西昌电力股价具有arch效应"
   ]
  },
  {
   "cell_type": "markdown",
   "id": "f904ff63",
   "metadata": {},
   "source": [
    "## 选取合适滞后阶数的 GARCH 模型对股票对数收益率进行波动率建模，检验模型结果并解读模型结果的基本含义"
   ]
  },
  {
   "cell_type": "markdown",
   "id": "5dd5ced3",
   "metadata": {},
   "source": [
    "### GARCH模型建模"
   ]
  },
  {
   "cell_type": "code",
   "execution_count": 171,
   "id": "a3b37881",
   "metadata": {},
   "outputs": [
    {
     "name": "stdout",
     "output_type": "stream",
     "text": [
      "\n",
      "Title:\n",
      " GARCH Modelling \n",
      "\n",
      "Call:\n",
      " garchFit(formula = ~1 + garch(1, 1), data = xcdl_logreturn, trace = F) \n",
      "\n",
      "Mean and Variance Equation:\n",
      " data ~ 1 + garch(1, 1)\n",
      "<environment: 0x000001dfcfad8988>\n",
      " [data = xcdl_logreturn]\n",
      "\n",
      "Conditional Distribution:\n",
      " norm \n",
      "\n",
      "Coefficient(s):\n",
      "         mu        omega       alpha1        beta1  \n",
      "-2.9390e-05   5.4681e-05   1.1268e-01   8.1816e-01  \n",
      "\n",
      "Std. Errors:\n",
      " based on Hessian \n",
      "\n",
      "Error Analysis:\n",
      "         Estimate  Std. Error  t value Pr(>|t|)    \n",
      "mu     -2.939e-05   7.028e-04   -0.042  0.96664    \n",
      "omega   5.468e-05   1.678e-05    3.259  0.00112 ** \n",
      "alpha1  1.127e-01   2.322e-02    4.853 1.21e-06 ***\n",
      "beta1   8.182e-01   3.880e-02   21.089  < 2e-16 ***\n",
      "---\n",
      "Signif. codes:  0 '***' 0.001 '**' 0.01 '*' 0.05 '.' 0.1 ' ' 1\n",
      "\n",
      "Log Likelihood:\n",
      " 2721.754    normalized:  2.238284 \n",
      "\n",
      "Description:\n",
      " Fri Apr 28 16:01:36 2023 by user: 20392 \n",
      "\n",
      "\n",
      "Standardised Residuals Tests:\n",
      "                                Statistic p-Value  \n",
      " Jarque-Bera Test   R    Chi^2  639.5166  0        \n",
      " Shapiro-Wilk Test  R    W      0.9538451 0        \n",
      " Ljung-Box Test     R    Q(10)  10.33798  0.4113581\n",
      " Ljung-Box Test     R    Q(15)  12.33294  0.6536734\n",
      " Ljung-Box Test     R    Q(20)  13.92634  0.834211 \n",
      " Ljung-Box Test     R^2  Q(10)  8.121199  0.6169996\n",
      " Ljung-Box Test     R^2  Q(15)  9.141042  0.870028 \n",
      " Ljung-Box Test     R^2  Q(20)  14.81617  0.786828 \n",
      " LM Arch Test       R    TR^2   8.701391  0.7282018\n",
      "\n",
      "Information Criterion Statistics:\n",
      "      AIC       BIC       SIC      HQIC \n",
      "-4.469990 -4.453202 -4.470011 -4.463670 \n",
      "\n"
     ]
    }
   ],
   "source": [
    "xcdl_garch<-garchFit(~1+garch(1,1),data=xcdl_logreturn,trace = F)\n",
    "summary(xcdl_garch)"
   ]
  },
  {
   "cell_type": "markdown",
   "id": "61d8e65a",
   "metadata": {},
   "source": [
    "### 模型结果检验"
   ]
  },
  {
   "cell_type": "code",
   "execution_count": 172,
   "id": "e101c4f3",
   "metadata": {},
   "outputs": [],
   "source": [
    "vo_garch<-volatility(xcdl_garch)\n",
    "vo_garch<-xts(vo_garch,order.by = time)"
   ]
  },
  {
   "cell_type": "code",
   "execution_count": 173,
   "id": "614f3fd4",
   "metadata": {},
   "outputs": [
    {
     "data": {
      "image/png": "[encoded data removed]",
      "text/plain": [
       "Plot with title \"Series  resid_garch^2\""
      ]
     },
     "metadata": {
      "image/png": {
       "height": 420,
       "width": 420
      }
     },
     "output_type": "display_data"
    }
   ],
   "source": [
    "par(mfrow=c(2,2))\n",
    "resid_garch<-residuals(xcdl_garch,standardize=T)\n",
    "resid_garch<-xts(resid_garch,order.by = time)\n",
    "acf(resid_garch)\n",
    "pacf(resid_garch)\n",
    "acf(resid_garch^2)\n",
    "pacf(resid_garch^2)"
   ]
  },
  {
   "cell_type": "markdown",
   "id": "d6c2316b",
   "metadata": {},
   "source": [
    "### 模型结果解读"
   ]
  },
  {
   "cell_type": "markdown",
   "id": "800ff1ec",
   "metadata": {},
   "source": [
    "- 模型如下：\n",
    "$$\n",
    "r_{t}=-2.9390*10^{-5}+α_{t},  \\quad α_{t}=σ_{t}ξ_{t},\\quadξ_{t}.i.i.d\\sim N(0,1)\n",
    "$$\n",
    "\n",
    "$$\n",
    "σ_{t}^2=5.468*10^{-5}+0.11268α_{t-1}^{2} +0.81816σ_{t-1}^{2}\n",
    "$$\n",
    "\n",
    "- 模型参数p值均拒绝原假设，所估计的参数在统计意义上显著\n",
    "- aic为-4.469990\n",
    "- 标准化残差序列接受原假设，是白噪声序列，同时标准化残差序列的平方也能通过Ljung-Box检验，接受ARCH效应的原假设，拟合模型很好的刻画了收益率的均值和方差\n",
    "- $σ^2$对过去的依赖主要来源于β$_1$=0.81816"
   ]
  },
  {
   "cell_type": "markdown",
   "id": "fec1dd75",
   "metadata": {},
   "source": [
    "#### 从标准化残差序列和其平方的ACF和PACF图来看，其残差序列是平稳的，平方序列只有几个值超过界限，即仅存在轻微的自相关性，模型拟合充分"
   ]
  },
  {
   "cell_type": "markdown",
   "id": "5bba8c8b",
   "metadata": {},
   "source": [
    "## 讨论不同新息分布假设对 GARCH 模型构建结果的影响，并在对残差（及其平方）序列特征讨论后对该股票对数收益率波动区间加以预测，评估各类分布假设下预测结果的差异"
   ]
  },
  {
   "cell_type": "markdown",
   "id": "ecd5b530",
   "metadata": {},
   "source": [
    "### 有偏正态分布"
   ]
  },
  {
   "cell_type": "code",
   "execution_count": 174,
   "id": "03472cf0",
   "metadata": {},
   "outputs": [
    {
     "name": "stdout",
     "output_type": "stream",
     "text": [
      "\n",
      "Title:\n",
      " GARCH Modelling \n",
      "\n",
      "Call:\n",
      " garchFit(formula = ~1 + garch(1, 1), data = xcdl_logreturn, cond.dist = \"snorm\", \n",
      "    trace = F) \n",
      "\n",
      "Mean and Variance Equation:\n",
      " data ~ 1 + garch(1, 1)\n",
      "<environment: 0x000001dfc83fbf20>\n",
      " [data = xcdl_logreturn]\n",
      "\n",
      "Conditional Distribution:\n",
      " snorm \n",
      "\n",
      "Coefficient(s):\n",
      "        mu       omega      alpha1       beta1        skew  \n",
      "1.2616e-04  5.8497e-05  1.1722e-01  8.0827e-01  1.0573e+00  \n",
      "\n",
      "Std. Errors:\n",
      " based on Hessian \n",
      "\n",
      "Error Analysis:\n",
      "        Estimate  Std. Error  t value Pr(>|t|)    \n",
      "mu     1.262e-04   7.228e-04    0.175 0.861437    \n",
      "omega  5.850e-05   1.753e-05    3.337 0.000848 ***\n",
      "alpha1 1.172e-01   2.420e-02    4.844 1.27e-06 ***\n",
      "beta1  8.083e-01   4.027e-02   20.071  < 2e-16 ***\n",
      "skew   1.057e+00   3.163e-02   33.430  < 2e-16 ***\n",
      "---\n",
      "Signif. codes:  0 '***' 0.001 '**' 0.01 '*' 0.05 '.' 0.1 ' ' 1\n",
      "\n",
      "Log Likelihood:\n",
      " 2723.572    normalized:  2.23978 \n",
      "\n",
      "Description:\n",
      " Fri Apr 28 16:01:36 2023 by user: 20392 \n",
      "\n",
      "\n",
      "Standardised Residuals Tests:\n",
      "                                Statistic p-Value  \n",
      " Jarque-Bera Test   R    Chi^2  637.7627  0        \n",
      " Shapiro-Wilk Test  R    W      0.9538172 0        \n",
      " Ljung-Box Test     R    Q(10)  10.30332  0.4142971\n",
      " Ljung-Box Test     R    Q(15)  12.32011  0.6546554\n",
      " Ljung-Box Test     R    Q(20)  13.93857  0.8335971\n",
      " Ljung-Box Test     R^2  Q(10)  7.975397  0.6312402\n",
      " Ljung-Box Test     R^2  Q(15)  8.904687  0.8824481\n",
      " Ljung-Box Test     R^2  Q(20)  14.69454  0.7936113\n",
      " LM Arch Test       R    TR^2   8.463628  0.7479316\n",
      "\n",
      "Information Criterion Statistics:\n",
      "      AIC       BIC       SIC      HQIC \n",
      "-4.471336 -4.450352 -4.471369 -4.463436 \n",
      "\n"
     ]
    }
   ],
   "source": [
    "xcdl_garch_1<-garchFit(~1+garch(1,1),data=xcdl_logreturn,trace = F,cond.dist = \"snorm\")\n",
    "summary(xcdl_garch_1)\n",
    "resid_garch_1<-residuals(xcdl_garch_1,standardize=T)\n",
    "resid_garch_1<-xts(resid_garch_1,order.by = time)\n",
    "vo_garch_1<-volatility(xcdl_garch_1)\n",
    "vo_garch_1<-xts(vo_garch_1,order.by = time)"
   ]
  },
  {
   "cell_type": "markdown",
   "id": "60093306",
   "metadata": {},
   "source": [
    "### 标准t分布"
   ]
  },
  {
   "cell_type": "code",
   "execution_count": 175,
   "id": "339dd5c1",
   "metadata": {},
   "outputs": [
    {
     "name": "stdout",
     "output_type": "stream",
     "text": [
      "\n",
      "Title:\n",
      " GARCH Modelling \n",
      "\n",
      "Call:\n",
      " garchFit(formula = ~1 + garch(1, 1), data = xcdl_logreturn, cond.dist = \"std\", \n",
      "    trace = F) \n",
      "\n",
      "Mean and Variance Equation:\n",
      " data ~ 1 + garch(1, 1)\n",
      "<environment: 0x000001dfc98eb0a0>\n",
      " [data = xcdl_logreturn]\n",
      "\n",
      "Conditional Distribution:\n",
      " std \n",
      "\n",
      "Coefficient(s):\n",
      "         mu        omega       alpha1        beta1        shape  \n",
      "-1.2616e-04   4.5916e-05   1.7070e-01   8.0547e-01   3.5457e+00  \n",
      "\n",
      "Std. Errors:\n",
      " based on Hessian \n",
      "\n",
      "Error Analysis:\n",
      "         Estimate  Std. Error  t value Pr(>|t|)    \n",
      "mu     -1.262e-04   5.568e-04   -0.227 0.820741    \n",
      "omega   4.592e-05   1.909e-05    2.405 0.016171 *  \n",
      "alpha1  1.707e-01   4.445e-02    3.840 0.000123 ***\n",
      "beta1   8.055e-01   4.745e-02   16.973  < 2e-16 ***\n",
      "shape   3.546e+00   3.883e-01    9.132  < 2e-16 ***\n",
      "---\n",
      "Signif. codes:  0 '***' 0.001 '**' 0.01 '*' 0.05 '.' 0.1 ' ' 1\n",
      "\n",
      "Log Likelihood:\n",
      " 2812.647    normalized:  2.313032 \n",
      "\n",
      "Description:\n",
      " Fri Apr 28 16:01:36 2023 by user: 20392 \n",
      "\n",
      "\n",
      "Standardised Residuals Tests:\n",
      "                                Statistic p-Value  \n",
      " Jarque-Bera Test   R    Chi^2  887.2705  0        \n",
      " Shapiro-Wilk Test  R    W      0.9492441 0        \n",
      " Ljung-Box Test     R    Q(10)  9.979886  0.4422598\n",
      " Ljung-Box Test     R    Q(15)  11.96462  0.6817047\n",
      " Ljung-Box Test     R    Q(20)  13.66167  0.8472272\n",
      " Ljung-Box Test     R^2  Q(10)  8.332317  0.5964117\n",
      " Ljung-Box Test     R^2  Q(15)  10.13214  0.8113469\n",
      " Ljung-Box Test     R^2  Q(20)  19.76686  0.4725961\n",
      " LM Arch Test       R    TR^2   9.709343  0.6414428\n",
      "\n",
      "Information Criterion Statistics:\n",
      "      AIC       BIC       SIC      HQIC \n",
      "-4.617840 -4.596856 -4.617874 -4.609941 \n",
      "\n"
     ]
    }
   ],
   "source": [
    "xcdl_garch_2<-garchFit(~1+garch(1,1),data=xcdl_logreturn,trace = F,cond.dist = \"std\")\n",
    "summary(xcdl_garch_2)\n",
    "resid_garch_2<-residuals(xcdl_garch_2,standardize=T)\n",
    "resid_garch_2<-xts(resid_garch_2,order.by = time)\n",
    "vo_garch_2<-volatility(xcdl_garch_2)\n",
    "vo_garch_2<-xts(vo_garch_2,order.by = time)"
   ]
  },
  {
   "cell_type": "markdown",
   "id": "65af80a6",
   "metadata": {},
   "source": [
    "### 有偏T分布"
   ]
  },
  {
   "cell_type": "code",
   "execution_count": 176,
   "id": "0bd574fe",
   "metadata": {},
   "outputs": [
    {
     "name": "stdout",
     "output_type": "stream",
     "text": [
      "\n",
      "Title:\n",
      " GARCH Modelling \n",
      "\n",
      "Call:\n",
      " garchFit(formula = ~1 + garch(1, 1), data = xcdl_logreturn, cond.dist = \"sstd\", \n",
      "    trace = F) \n",
      "\n",
      "Mean and Variance Equation:\n",
      " data ~ 1 + garch(1, 1)\n",
      "<environment: 0x000001dfd339ba40>\n",
      " [data = xcdl_logreturn]\n",
      "\n",
      "Conditional Distribution:\n",
      " sstd \n",
      "\n",
      "Coefficient(s):\n",
      "         mu        omega       alpha1        beta1         skew        shape  \n",
      "-1.2616e-04   4.7366e-05   1.7195e-01   8.0210e-01   1.0541e+00   3.5572e+00  \n",
      "\n",
      "Std. Errors:\n",
      " based on Hessian \n",
      "\n",
      "Error Analysis:\n",
      "         Estimate  Std. Error  t value Pr(>|t|)    \n",
      "mu     -1.262e-04   6.668e-04   -0.189 0.849941    \n",
      "omega   4.737e-05   1.947e-05    2.433 0.014989 *  \n",
      "alpha1  1.720e-01   4.448e-02    3.866 0.000111 ***\n",
      "beta1   8.021e-01   4.773e-02   16.806  < 2e-16 ***\n",
      "skew    1.054e+00   4.180e-02   25.218  < 2e-16 ***\n",
      "shape   3.557e+00   3.903e-01    9.113  < 2e-16 ***\n",
      "---\n",
      "Signif. codes:  0 '***' 0.001 '**' 0.01 '*' 0.05 '.' 0.1 ' ' 1\n",
      "\n",
      "Log Likelihood:\n",
      " 2813.919    normalized:  2.314078 \n",
      "\n",
      "Description:\n",
      " Fri Apr 28 16:01:37 2023 by user: 20392 \n",
      "\n",
      "\n",
      "Standardised Residuals Tests:\n",
      "                                Statistic p-Value  \n",
      " Jarque-Bera Test   R    Chi^2  881.761   0        \n",
      " Shapiro-Wilk Test  R    W      0.9493147 0        \n",
      " Ljung-Box Test     R    Q(10)  9.970011  0.4431283\n",
      " Ljung-Box Test     R    Q(15)  11.96245  0.6818692\n",
      " Ljung-Box Test     R    Q(20)  13.67107  0.846774 \n",
      " Ljung-Box Test     R^2  Q(10)  8.301913  0.5993725\n",
      " Ljung-Box Test     R^2  Q(15)  10.04629  0.816818 \n",
      " Ljung-Box Test     R^2  Q(20)  19.68647  0.4776897\n",
      " LM Arch Test       R    TR^2   9.631439  0.6482586\n",
      "\n",
      "Information Criterion Statistics:\n",
      "      AIC       BIC       SIC      HQIC \n",
      "-4.618287 -4.593106 -4.618335 -4.608808 \n",
      "\n"
     ]
    }
   ],
   "source": [
    "xcdl_garch_3<-garchFit(~1+garch(1,1),data=xcdl_logreturn,trace = F,cond.dist = \"sstd\")\n",
    "summary(xcdl_garch_3)\n",
    "resid_garch_3<-residuals(xcdl_garch_3,standardize=T)\n",
    "resid_garch_3<-xts(resid_garch_3,order.by = time)\n",
    "vo_garch_3<-volatility(xcdl_garch_3)\n",
    "vo_garch_3<-xts(vo_garch_3,order.by = time)"
   ]
  },
  {
   "cell_type": "markdown",
   "id": "07cff753",
   "metadata": {},
   "source": [
    "### 广义误差分布"
   ]
  },
  {
   "cell_type": "code",
   "execution_count": 177,
   "id": "8d1a81b8",
   "metadata": {},
   "outputs": [
    {
     "name": "stdout",
     "output_type": "stream",
     "text": [
      "\n",
      "Title:\n",
      " GARCH Modelling \n",
      "\n",
      "Call:\n",
      " garchFit(formula = ~1 + garch(1, 1), data = xcdl_logreturn, cond.dist = \"ged\", \n",
      "    trace = F) \n",
      "\n",
      "Mean and Variance Equation:\n",
      " data ~ 1 + garch(1, 1)\n",
      "<environment: 0x000001dfd20387c0>\n",
      " [data = xcdl_logreturn]\n",
      "\n",
      "Conditional Distribution:\n",
      " ged \n",
      "\n",
      "Coefficient(s):\n",
      "         mu        omega       alpha1        beta1        shape  \n",
      "-8.8172e-07   4.4233e-05   1.3491e-01   8.1307e-01   1.0867e+00  \n",
      "\n",
      "Std. Errors:\n",
      " based on Hessian \n",
      "\n",
      "Error Analysis:\n",
      "         Estimate  Std. Error  t value Pr(>|t|)    \n",
      "mu     -8.817e-07   1.428e-04   -0.006   0.9951    \n",
      "omega   4.423e-05   1.808e-05    2.447   0.0144 *  \n",
      "alpha1  1.349e-01   3.454e-02    3.906 9.38e-05 ***\n",
      "beta1   8.131e-01   4.836e-02   16.814  < 2e-16 ***\n",
      "shape   1.087e+00   5.441e-02   19.973  < 2e-16 ***\n",
      "---\n",
      "Signif. codes:  0 '***' 0.001 '**' 0.01 '*' 0.05 '.' 0.1 ' ' 1\n",
      "\n",
      "Log Likelihood:\n",
      " 2803.874    normalized:  2.305817 \n",
      "\n",
      "Description:\n",
      " Fri Apr 28 16:01:37 2023 by user: 20392 \n",
      "\n",
      "\n",
      "Standardised Residuals Tests:\n",
      "                                Statistic p-Value  \n",
      " Jarque-Bera Test   R    Chi^2  782.0017  0        \n",
      " Shapiro-Wilk Test  R    W      0.9511974 0        \n",
      " Ljung-Box Test     R    Q(10)  10.09592  0.4321185\n",
      " Ljung-Box Test     R    Q(15)  12.07163  0.6735993\n",
      " Ljung-Box Test     R    Q(20)  13.66912  0.8468685\n",
      " Ljung-Box Test     R^2  Q(10)  8.10359   0.618719 \n",
      " Ljung-Box Test     R^2  Q(15)  9.640687  0.8417125\n",
      " Ljung-Box Test     R^2  Q(20)  17.62911  0.6118263\n",
      " LM Arch Test       R    TR^2   9.129066  0.6918688\n",
      "\n",
      "Information Criterion Statistics:\n",
      "      AIC       BIC       SIC      HQIC \n",
      "-4.603411 -4.582427 -4.603444 -4.595511 \n",
      "\n"
     ]
    }
   ],
   "source": [
    "xcdl_garch_4<-garchFit(~1+garch(1,1),data=xcdl_logreturn,trace = F,cond.dist = \"ged\")\n",
    "summary(xcdl_garch_4)\n",
    "resid_garch_4<-residuals(xcdl_garch_4,standardize=T)\n",
    "resid_garch_4<-xts(resid_garch_4,order.by = time)\n",
    "vo_garch_4<-volatility(xcdl_garch_4)\n",
    "vo_garch_4<-xts(vo_garch_4,order.by = time)"
   ]
  },
  {
   "cell_type": "markdown",
   "id": "afd9b386",
   "metadata": {},
   "source": [
    "### 有偏广义误差分布"
   ]
  },
  {
   "cell_type": "code",
   "execution_count": 178,
   "id": "980a0253",
   "metadata": {},
   "outputs": [
    {
     "name": "stdout",
     "output_type": "stream",
     "text": [
      "\n",
      "Title:\n",
      " GARCH Modelling \n",
      "\n",
      "Call:\n",
      " garchFit(formula = ~1 + garch(1, 1), data = xcdl_logreturn, cond.dist = \"sged\", \n",
      "    trace = F) \n",
      "\n",
      "Mean and Variance Equation:\n",
      " data ~ 1 + garch(1, 1)\n",
      "<environment: 0x000001dfc7739930>\n",
      " [data = xcdl_logreturn]\n",
      "\n",
      "Conditional Distribution:\n",
      " sged \n",
      "\n",
      "Coefficient(s):\n",
      "        mu       omega      alpha1       beta1        skew       shape  \n",
      "1.0767e-04  4.4658e-05  1.3572e-01  8.1165e-01  1.0043e+00  1.0881e+00  \n",
      "\n",
      "Std. Errors:\n",
      " based on Hessian \n",
      "\n",
      "Error Analysis:\n",
      "        Estimate  Std. Error  t value Pr(>|t|)    \n",
      "mu     1.077e-04   6.713e-04    0.160   0.8726    \n",
      "omega  4.466e-05   1.824e-05    2.448   0.0144 *  \n",
      "alpha1 1.357e-01   3.485e-02    3.895 9.83e-05 ***\n",
      "beta1  8.117e-01   4.888e-02   16.604  < 2e-16 ***\n",
      "skew   1.004e+00   2.309e-02   43.489  < 2e-16 ***\n",
      "shape  1.088e+00   5.467e-02   19.904  < 2e-16 ***\n",
      "---\n",
      "Signif. codes:  0 '***' 0.001 '**' 0.01 '*' 0.05 '.' 0.1 ' ' 1\n",
      "\n",
      "Log Likelihood:\n",
      " 2803.889    normalized:  2.305829 \n",
      "\n",
      "Description:\n",
      " Fri Apr 28 16:01:38 2023 by user: 20392 \n",
      "\n",
      "\n",
      "Standardised Residuals Tests:\n",
      "                                Statistic p-Value  \n",
      " Jarque-Bera Test   R    Chi^2  779.3851  0        \n",
      " Shapiro-Wilk Test  R    W      0.9512317 0        \n",
      " Ljung-Box Test     R    Q(10)  10.09441  0.4322498\n",
      " Ljung-Box Test     R    Q(15)  12.07336  0.673468 \n",
      " Ljung-Box Test     R    Q(20)  13.66511  0.8470618\n",
      " Ljung-Box Test     R^2  Q(10)  8.102197  0.6188551\n",
      " Ljung-Box Test     R^2  Q(15)  9.610417  0.8435042\n",
      " Ljung-Box Test     R^2  Q(20)  17.59419  0.6141215\n",
      " LM Arch Test       R    TR^2   9.110891  0.6934308\n",
      "\n",
      "Information Criterion Statistics:\n",
      "      AIC       BIC       SIC      HQIC \n",
      "-4.601790 -4.576610 -4.601839 -4.592311 \n",
      "\n"
     ]
    }
   ],
   "source": [
    "xcdl_garch_5<-garchFit(~1+garch(1,1),data=xcdl_logreturn,trace = F,cond.dist = \"sged\")\n",
    "summary(xcdl_garch_5)\n",
    "resid_garch_5<-residuals(xcdl_garch_5,standardize=T)\n",
    "resid_garch_5<-xts(resid_garch_5,order.by = time)\n",
    "vo_garch_5<-volatility(xcdl_garch_5)\n",
    "vo_garch_5<-xts(vo_garch_5,order.by = time)"
   ]
  },
  {
   "cell_type": "markdown",
   "id": "37c07858",
   "metadata": {},
   "source": [
    "### 对模型构建结果的影响分析——在六种不同新息分布的情况下"
   ]
  },
  {
   "cell_type": "markdown",
   "id": "13fa7af6",
   "metadata": {},
   "source": [
    "- 不同新息分布下模型结果\n",
    "    - 标准正态分布\n",
    "    $$\n",
    "r_{t}=-2.9390*10^{-5}+α_{t}, \\quad  α_{t}=σ_{t}ξ_{t},\\quadξ_{t}.i.i.d\\sim N(0,1)\n",
    "$$\n",
    "$$\n",
    "σ_{t}^2=5.468*10^{-5}+0.11268α_{t-1}^{2} +0.81816σ_{t-1}^{2}\n",
    "$$\n",
    "    - 有偏正态分布\n",
    "        $$\n",
    "r_{t}=1.2616*10^{-4}+α_{t}, \\quad  α_{t}=σ_{t}ξ_{t}\n",
    "$$\n",
    "$$\n",
    "σ_{t}^2=5.8497*10^{-5}+0.11722α_{t-1}^{2} +0.80827σ_{t-1}^{2}\n",
    "$$\n",
    "    - 标准t分布\n",
    "    $$\n",
    "r_{t}=-1.2616*10^{-4}+α_{t},  \\quad α_{t}=σ_{t}ξ_{t},\\quadξ_{t}.i.i.d\\sim t^{*}(3.5457)\n",
    "$$\n",
    "$$\n",
    "σ_{t}^2=4.5916*10^{-5}+0.17070α_{t-1}^{2} +0.80547σ_{t-1}^{2}\n",
    "$$\n",
    "    - 有偏t分布\n",
    "    $$\n",
    "r_{t}=-1.2616*10^{-4}+α_{t},  \\quad α_{t}=σ_{t}ξ_{t},\\quadξ_{t}.i.i.d\\sim t^{*}_{1.0541,3.5572}\n",
    "$$\n",
    "$$\n",
    "σ_{t}^2=4.7366*10^{-5}+0.17195α_{t-1}^{2} +0.80210σ_{t-1}^{2}\n",
    "$$\n",
    "    - 广义误差分布\n",
    "    $$\n",
    "r_{t}=-8.8172*10^{-7}+α_{t}, \\quad  α_{t}=σ_{t}ξ_{t}\n",
    "$$\n",
    "$$\n",
    "σ_{t}^2=4.4233*10^{-5}+0.13491α_{t-1}^{2} +0.81307σ_{t-1}^{2}\n",
    "$$\n",
    "    - 有偏广义误差分布\n",
    "    $$\n",
    "r_{t}=-1.0767*10^{-4}+α_{t}, \\quad  α_{t}=σ_{t}ξ_{t}\n",
    "$$\n",
    "$$\n",
    "σ_{t}^2=4.4658*10^{-5}+0.13572α_{t-1}^{2} +0.81165σ_{t-1}^{2}\n",
    "$$\n"
   ]
  },
  {
   "cell_type": "markdown",
   "id": "a8ac16d7",
   "metadata": {},
   "source": [
    "- 在不同的新息分布条件下，对各参数估计结果差异并没有很大，除了广义误差分布的mu与其他分布情况下存在数量级上的差异外，其他参数估计结果都比较接近，都在一个较为合理的区间"
   ]
  },
  {
   "cell_type": "markdown",
   "id": "97ec9c13",
   "metadata": {},
   "source": [
    "- 在不同的新息分布情况下，参数至少在0.05的水平上显著，且残差及残差平方序列的白噪声检验均能通过，表示模型拟合效果都较好。"
   ]
  },
  {
   "cell_type": "code",
   "execution_count": 179,
   "id": "5352532b",
   "metadata": {},
   "outputs": [
    {
     "data": {
      "text/html": [
       "<table class=\"dataframe\">\n",
       "<caption>A data.frame: 6 × 1</caption>\n",
       "<thead>\n",
       "\t<tr><th></th><th scope=col>name_aic</th></tr>\n",
       "\t<tr><th></th><th scope=col>&lt;dbl&gt;</th></tr>\n",
       "</thead>\n",
       "<tbody>\n",
       "\t<tr><th scope=row>标准正态分布</th><td>-4.699900</td></tr>\n",
       "\t<tr><th scope=row>有偏正态分布</th><td>-4.471336</td></tr>\n",
       "\t<tr><th scope=row>标准t分布</th><td>-4.617840</td></tr>\n",
       "\t<tr><th scope=row>有偏t分布</th><td>-4.618287</td></tr>\n",
       "\t<tr><th scope=row>广义误差分布</th><td>-4.603411</td></tr>\n",
       "\t<tr><th scope=row>有偏广义误差分布</th><td>-4.601790</td></tr>\n",
       "</tbody>\n",
       "</table>\n"
      ],
      "text/latex": [
       "A data.frame: 6 × 1\n",
       "\\begin{tabular}{r|l}\n",
       "  & name\\_aic\\\\\n",
       "  & <dbl>\\\\\n",
       "\\hline\n",
       "\t标准正态分布 & -4.699900\\\\\n",
       "\t有偏正态分布 & -4.471336\\\\\n",
       "\t标准t分布 & -4.617840\\\\\n",
       "\t有偏t分布 & -4.618287\\\\\n",
       "\t广义误差分布 & -4.603411\\\\\n",
       "\t有偏广义误差分布 & -4.601790\\\\\n",
       "\\end{tabular}\n"
      ],
      "text/markdown": [
       "\n",
       "A data.frame: 6 × 1\n",
       "\n",
       "| <!--/--> | name_aic &lt;dbl&gt; |\n",
       "|---|---|\n",
       "| 标准正态分布 | -4.699900 |\n",
       "| 有偏正态分布 | -4.471336 |\n",
       "| 标准t分布 | -4.617840 |\n",
       "| 有偏t分布 | -4.618287 |\n",
       "| 广义误差分布 | -4.603411 |\n",
       "| 有偏广义误差分布 | -4.601790 |\n",
       "\n"
      ],
      "text/plain": [
       "                 name_aic \n",
       "标准正态分布     -4.699900\n",
       "有偏正态分布     -4.471336\n",
       "标准t分布        -4.617840\n",
       "有偏t分布        -4.618287\n",
       "广义误差分布     -4.603411\n",
       "有偏广义误差分布 -4.601790"
      ]
     },
     "metadata": {},
     "output_type": "display_data"
    }
   ],
   "source": [
    "aic=c(-4.69990,-4.471336,-4.617840,-4.618287,-4.603411,-4.601790)\n",
    "col_name<-c(\"标准正态分布\",\"有偏正态分布\",\"标准t分布\",\"有偏t分布\",\"广义误差分布\",\"有偏广义误差分布\")\n",
    "name_aic<-setNames(aic,col_name)\n",
    "data.frame(name_aic)"
   ]
  },
  {
   "cell_type": "markdown",
   "id": "eea0c985",
   "metadata": {},
   "source": [
    "- 对比各个模型的AIC值，在有偏t分布的情况下，模型的AIC值最小。"
   ]
  },
  {
   "cell_type": "markdown",
   "id": "23e2df94",
   "metadata": {},
   "source": [
    "- 残差ACF与PACF对比"
   ]
  },
  {
   "cell_type": "code",
   "execution_count": 180,
   "id": "64c08c17",
   "metadata": {},
   "outputs": [
    {
     "data": {
      "image/png": "[encoded data removed]",
      "text/plain": [
       "Plot with title \"Series  resid_garch_5\""
      ]
     },
     "metadata": {
      "image/png": {
       "height": 420,
       "width": 420
      }
     },
     "output_type": "display_data"
    }
   ],
   "source": [
    "par(mfrow=c(3,4))\n",
    "acf(resid_garch)\n",
    "pacf(resid_garch)\n",
    "acf(resid_garch_1)\n",
    "pacf(resid_garch_1)\n",
    "acf(resid_garch_2)\n",
    "pacf(resid_garch_2)\n",
    "acf(resid_garch_3)\n",
    "pacf(resid_garch_3)\n",
    "acf(resid_garch_4)\n",
    "pacf(resid_garch_4)\n",
    "acf(resid_garch_5)\n",
    "pacf(resid_garch_5)"
   ]
  },
  {
   "cell_type": "markdown",
   "id": "728d7f6c",
   "metadata": {},
   "source": [
    "- 残差平方ACF与PACF对比"
   ]
  },
  {
   "cell_type": "code",
   "execution_count": 181,
   "id": "6cad4f41",
   "metadata": {},
   "outputs": [
    {
     "data": {
      "image/png": "[encoded data removed]",
      "text/plain": [
       "Plot with title \"Series  resid_garch_5^2\""
      ]
     },
     "metadata": {
      "image/png": {
       "height": 420,
       "width": 420
      }
     },
     "output_type": "display_data"
    }
   ],
   "source": [
    "par(mfrow=c(3,4))\n",
    "acf(resid_garch^2)\n",
    "pacf(resid_garch^2)\n",
    "acf(resid_garch_1^2)\n",
    "pacf(resid_garch_1^2)\n",
    "acf(resid_garch_2^2)\n",
    "pacf(resid_garch_2^2)\n",
    "acf(resid_garch_3^2)\n",
    "pacf(resid_garch_3^2)\n",
    "acf(resid_garch_4^2)\n",
    "pacf(resid_garch_4^2)\n",
    "acf(resid_garch_5^2)\n",
    "pacf(resid_garch_5^2)"
   ]
  },
  {
   "cell_type": "markdown",
   "id": "9c186964",
   "metadata": {},
   "source": [
    "#### 可以看到，在各种新息分布的情况下，残差序列的ACF图与PACF图均在界限之内，其平方序列大约都在滞后多阶滞后才会超过界限值，可以认为残差序列及其平方序列没有序列相关性"
   ]
  },
  {
   "cell_type": "markdown",
   "id": "65c6dfad",
   "metadata": {},
   "source": [
    "### 各种新息分布情况下预测比较"
   ]
  },
  {
   "cell_type": "markdown",
   "id": "6a5cf0cd",
   "metadata": {},
   "source": [
    "#### 预测图比较"
   ]
  },
  {
   "cell_type": "code",
   "execution_count": 182,
   "id": "98efa314",
   "metadata": {
    "scrolled": false
   },
   "outputs": [
    {
     "data": {
      "image/png": "[encoded data removed]",
      "text/plain": [
       "plot without title"
      ]
     },
     "metadata": {
      "image/png": {
       "height": 420,
       "width": 420
      }
     },
     "output_type": "display_data"
    }
   ],
   "source": [
    "par(mfrow=c(3,2))\n",
    "mu<-coef(xcdl_garch)[\"mu\"]\n",
    "lb=mu-2*vo_garch\n",
    "ub=mu+2*vo_garch\n",
    "dat<-cbind(lb,xcdl_logreturn,ub)\n",
    "ylim=range(c(lb,xcdl_logreturn,ub))\n",
    "plot(dat,main=\"norm\")\n",
    "mu_1<-coef(xcdl_garch_1)[\"mu\"]\n",
    "lb_1=mu_1-2*vo_garch_1\n",
    "ub_1=mu_1+2*vo_garch_1\n",
    "dat_1<-cbind(lb_1,xcdl_logreturn,ub_1)\n",
    "ylim=range(c(lb_1,xcdl_logreturn,ub_1))\n",
    "plot(dat_1,main=\"snorm\")\n",
    "mu_2<-coef(xcdl_garch_2)[\"mu\"]\n",
    "lb_2=mu_2-2*vo_garch_2\n",
    "ub_2=mu_2+2*vo_garch_2\n",
    "dat_2<-cbind(lb_2,xcdl_logreturn,ub_2)\n",
    "ylim=range(c(lb_2,xcdl_logreturn,ub_2))\n",
    "plot(dat_2,main=\"std\")\n",
    "mu_3<-coef(xcdl_garch_3)[\"mu\"]\n",
    "lb_3=mu_3-2*vo_garch_3\n",
    "ub_3=mu_3+2*vo_garch_3\n",
    "dat_3<-cbind(lb_3,xcdl_logreturn,ub_3)\n",
    "ylim=range(c(lb_3,xcdl_logreturn,ub_3))\n",
    "plot(dat_3,main=\"sstd\")\n",
    "mu_4<-coef(xcdl_garch_4)[\"mu\"]\n",
    "lb_4=mu_4-2*vo_garch_4\n",
    "ub_4=mu_4+2*vo_garch_4\n",
    "dat_4<-cbind(lb_4,xcdl_logreturn,ub_4)\n",
    "ylim=range(c(lb_4,xcdl_logreturn,ub_4))\n",
    "plot(dat_4,main=\"ged\")\n",
    "mu_5<-coef(xcdl_garch_5)[\"mu\"]\n",
    "lb_5=mu_5-2*vo_garch_5\n",
    "ub_5=mu_5+2*vo_garch_5\n",
    "dat_5<-cbind(lb_5,xcdl_logreturn,ub_5)\n",
    "ylim=range(c(lb_5,xcdl_logreturn,ub_5))\n",
    "plot(dat_5,main=\"sged\")"
   ]
  },
  {
   "cell_type": "code",
   "execution_count": 183,
   "id": "f12653bc",
   "metadata": {},
   "outputs": [
    {
     "data": {
      "image/png": "[encoded data removed]",
      "text/plain": [
       "plot without title"
      ]
     },
     "metadata": {
      "image/png": {
       "height": 420,
       "width": 420
      }
     },
     "output_type": "display_data"
    }
   ],
   "source": [
    "dat6<-cbind(lb,lb_1,lb_2,lb_3,lb_4,lb_5)\n",
    "colnames(dat6)=col_name\n",
    "matplot(dat6,col=c(\"green\", \"blue\", \"red\",\"black\",\"pink\",\"yellow\"),type=\"l\")\n",
    "legend( \"bottomleft\",lty=1, col=c(\"green\", \"blue\", \"red\",\"black\",\"pink\",\"yellow\"),legend=col_name)"
   ]
  },
  {
   "cell_type": "code",
   "execution_count": 184,
   "id": "3bf7814c",
   "metadata": {},
   "outputs": [
    {
     "data": {
      "image/png": "[encoded data removed]",
      "text/plain": [
       "plot without title"
      ]
     },
     "metadata": {
      "image/png": {
       "height": 420,
       "width": 420
      }
     },
     "output_type": "display_data"
    }
   ],
   "source": [
    "dat7<-cbind(ub,ub_1,ub_2,ub_3,ub_4,ub_5)\n",
    "colnames(dat7)=col_name\n",
    "matplot(dat7,col=c(\"green\", \"blue\", \"red\",\"black\",\"pink\",\"yellow\"),type=\"l\")\n",
    "legend( \"topleft\",lty=1, col=c(\"green\", \"blue\", \"red\",\"black\",\"pink\",\"yellow\"),legend=col_name)"
   ]
  },
  {
   "cell_type": "markdown",
   "id": "3429cbe5",
   "metadata": {},
   "source": [
    "#### 比较前5步差异"
   ]
  },
  {
   "cell_type": "code",
   "execution_count": 185,
   "id": "3827b66f",
   "metadata": {},
   "outputs": [
    {
     "data": {
      "text/plain": [
       "           标准正态分布 有偏正态分布   标准t分布   有偏t分布 广义误差分布\n",
       "2017-01-04  -0.05462922  -0.05446847 -0.05563015 -0.05562556  -0.05468374\n",
       "2017-01-05  -0.05226282  -0.05197652 -0.05279139 -0.05275144  -0.05188810\n",
       "2017-01-06  -0.05164269  -0.05131910 -0.05250269 -0.05245922  -0.05118976\n",
       "2017-01-09  -0.04901783  -0.04860365 -0.04907540 -0.04900299  -0.04805613\n",
       "2017-01-10  -0.04905322  -0.04866045 -0.04963921 -0.04958368  -0.04815322\n",
       "           有偏广义误差分布\n",
       "2017-01-04      -0.05457463\n",
       "2017-01-05      -0.05174535\n",
       "2017-01-06      -0.05102241\n",
       "2017-01-09      -0.04787364\n",
       "2017-01-10      -0.04795792"
      ]
     },
     "metadata": {},
     "output_type": "display_data"
    }
   ],
   "source": [
    "head(dat6,5)"
   ]
  },
  {
   "cell_type": "code",
   "execution_count": 186,
   "id": "31903d9f",
   "metadata": {
    "scrolled": true
   },
   "outputs": [
    {
     "data": {
      "text/plain": [
       "           标准正态分布 有偏正态分布  标准t分布  有偏t分布 广义误差分布\n",
       "2017-01-04   0.05457044   0.05472079 0.05537783 0.05537325   0.05468198\n",
       "2017-01-05   0.05220404   0.05222884 0.05253908 0.05249912   0.05188634\n",
       "2017-01-06   0.05158391   0.05157141 0.05225037 0.05220691   0.05118800\n",
       "2017-01-09   0.04895905   0.04885596 0.04882309 0.04875067   0.04805436\n",
       "2017-01-10   0.04899444   0.04891276 0.04938689 0.04933137   0.04815145\n",
       "           有偏广义误差分布\n",
       "2017-01-04       0.05478997\n",
       "2017-01-05       0.05196069\n",
       "2017-01-06       0.05123775\n",
       "2017-01-09       0.04808898\n",
       "2017-01-10       0.04817326"
      ]
     },
     "metadata": {},
     "output_type": "display_data"
    }
   ],
   "source": [
    "head(dat7,5)"
   ]
  },
  {
   "cell_type": "markdown",
   "id": "e124c3b8",
   "metadata": {},
   "source": [
    "#### 在各种新息分布情况下，对于波动率的预测的上下限并没有很大的差异，无论是从前5步预测结果来看，还是通过六种分布的波动率上下限图来看，都没有较大的差异"
   ]
  },
  {
   "cell_type": "markdown",
   "id": "208f3017",
   "metadata": {},
   "source": [
    "## 分别运用 IGARCH 模型和 GARCH-M 模型刻画股票对数收益率的波动特征，检验模型结果并分别解读模型结果的基本含义"
   ]
  },
  {
   "cell_type": "markdown",
   "id": "4a78578a",
   "metadata": {},
   "source": [
    "### IGARCH模型建模"
   ]
  },
  {
   "cell_type": "code",
   "execution_count": 187,
   "id": "3722f782",
   "metadata": {},
   "outputs": [
    {
     "name": "stdout",
     "output_type": "stream",
     "text": [
      "\n",
      "*---------------------------------*\n",
      "*          GARCH Model Fit        *\n",
      "*---------------------------------*\n",
      "\n",
      "Conditional Variance Dynamics \t\n",
      "-----------------------------------\n",
      "GARCH Model\t: iGARCH(1,1)\n",
      "Mean Model\t: ARFIMA(0,0,0)\n",
      "Distribution\t: sstd \n",
      "\n",
      "Optimal Parameters\n",
      "------------------------------------\n",
      "        Estimate  Std. Error  t value Pr(>|t|)\n",
      "mu     -0.000803    0.000613  -1.3096 0.190333\n",
      "alpha1  0.046025    0.010902   4.2219 0.000024\n",
      "beta1   0.953975          NA       NA       NA\n",
      "skew    1.009900    0.036474  27.6879 0.000000\n",
      "shape   4.112462    0.299992  13.7086 0.000000\n",
      "omega   0.000003          NA       NA       NA\n",
      "\n",
      "Robust Standard Errors:\n",
      "        Estimate  Std. Error  t value Pr(>|t|)\n",
      "mu     -0.000803    0.000651  -1.2335 0.217375\n",
      "alpha1  0.046025    0.016799   2.7398 0.006147\n",
      "beta1   0.953975          NA       NA       NA\n",
      "skew    1.009900    0.037793  26.7216 0.000000\n",
      "shape   4.112462    0.298734  13.7663 0.000000\n",
      "omega   0.000003          NA       NA       NA\n",
      "\n",
      "LogLikelihood : 2801.945 \n",
      "\n",
      "Information Criteria\n",
      "------------------------------------\n",
      "                    \n",
      "Akaike       -4.6019\n",
      "Bayes        -4.5851\n",
      "Shibata      -4.6019\n",
      "Hannan-Quinn -4.5956\n",
      "\n",
      "Weighted Ljung-Box Test on Standardized Residuals\n",
      "------------------------------------\n",
      "                        statistic p-value\n",
      "Lag[1]                      3.262 0.07090\n",
      "Lag[2*(p+q)+(p+q)-1][2]     3.613 0.09583\n",
      "Lag[4*(p+q)+(p+q)-1][5]     4.789 0.17076\n",
      "d.o.f=0\n",
      "H0 : No serial correlation\n",
      "\n",
      "Weighted Ljung-Box Test on Standardized Squared Residuals\n",
      "------------------------------------\n",
      "                        statistic   p-value\n",
      "Lag[1]                      14.52 0.0001386\n",
      "Lag[2*(p+q)+(p+q)-1][5]     15.69 0.0002891\n",
      "Lag[4*(p+q)+(p+q)-1][9]     16.62 0.0014353\n",
      "d.o.f=2\n",
      "\n",
      "Weighted ARCH LM Tests\n",
      "------------------------------------\n",
      "            Statistic Shape Scale P-Value\n",
      "ARCH Lag[3]     1.191 0.500 2.000  0.2752\n",
      "ARCH Lag[5]     2.064 1.440 1.667  0.4572\n",
      "ARCH Lag[7]     2.514 2.315 1.543  0.6096\n",
      "\n",
      "Nyblom stability test\n",
      "------------------------------------\n",
      "Joint Statistic:  1.7185\n",
      "Individual Statistics:              \n",
      "mu     0.07788\n",
      "alpha1 0.15003\n",
      "skew   1.05755\n",
      "shape  0.25188\n",
      "\n",
      "Asymptotic Critical Values (10% 5% 1%)\n",
      "Joint Statistic:     \t 1.07 1.24 1.6\n",
      "Individual Statistic:\t 0.35 0.47 0.75\n",
      "\n",
      "Sign Bias Test\n",
      "------------------------------------\n",
      "                   t-value   prob sig\n",
      "Sign Bias           1.6144 0.1067    \n",
      "Negative Sign Bias  0.1252 0.9004    \n",
      "Positive Sign Bias  2.2831 0.0226  **\n",
      "Joint Effect        5.9170 0.1157    \n",
      "\n",
      "\n",
      "Adjusted Pearson Goodness-of-Fit Test:\n",
      "------------------------------------\n",
      "  group statistic p-value(g-1)\n",
      "1    20     19.03       0.4547\n",
      "2    30     29.89       0.4196\n",
      "3    40     45.71       0.2134\n",
      "4    50     47.82       0.5212\n",
      "\n",
      "\n",
      "Elapsed time : 0.410687 \n",
      "\n"
     ]
    }
   ],
   "source": [
    "par(mfrow=c(1,1))\n",
    "igarch_str<-ugarchspec(variance.model =list(model= \"iGARCH\" ,garchOrder =c(1,1), variance.targeting =T), mean.model = list(armaOrder =c(0,0),include.mean =T), distribution.model =\"sstd\")\n",
    "igarch_xcdl<-ugarchfit(igarch_str,data=xcdl_logreturn,solver =\"gosolnp\")\n",
    "show(igarch_xcdl)"
   ]
  },
  {
   "cell_type": "code",
   "execution_count": 188,
   "id": "b5040c0b",
   "metadata": {},
   "outputs": [
    {
     "name": "stdout",
     "output_type": "stream",
     "text": [
      "\n",
      "please wait...calculating quantiles...\n"
     ]
    },
    {
     "data": {
      "image/png": "[encoded data removed]",
      "text/plain": [
       "Plot with title \"ACF of Squared Standardized Residuals\""
      ]
     },
     "metadata": {
      "image/png": {
       "height": 420,
       "width": 420
      }
     },
     "output_type": "display_data"
    }
   ],
   "source": [
    "par(mfrow=c(3,4))\n",
    "for (i in 1:12){\n",
    "plot(igarch_xcdl,which=i)}"
   ]
  },
  {
   "cell_type": "markdown",
   "id": "76b15006",
   "metadata": {},
   "source": [
    "#### 模型如下：\n",
    "- 有偏t分布\n",
    "    $$\n",
    "r_{t}=-0.000803+α_{t}, \\quad  α_{t}=σ_{t}ξ_{t},\\quadξ_{t}.i.i.d\\sim t^{*}_{1.009899,4.1124392}\n",
    "$$\n",
    "$$\n",
    "σ_{t}^2=0.000003+0.046025α_{t-1}^{2} +0.953975σ_{t-1}^{2}\n",
    "$$\n",
    "\n",
    "- 标准化残差序列能在5%置信水平下通过检验，不存在序列相关，但其平方序列均未能在1%的置信水平下通过Ljung-Box检验，表明其存在序列相关\n",
    "- aic值为-4.6019，不如前述各种有偏t分布Garch（1，1）模型\n",
    "- 残余ARCH效应检验通过，不存在ARCH效应\n",
    "- 参数稳定性检验不通过\n",
    "- 残差分布符合假设\n",
    "- 模型拟合不充分\n",
    "\n"
   ]
  },
  {
   "cell_type": "markdown",
   "id": "a1d6a14e",
   "metadata": {},
   "source": [
    "### GARCH-M模型建模"
   ]
  },
  {
   "cell_type": "code",
   "execution_count": 189,
   "id": "3d672bac",
   "metadata": {},
   "outputs": [
    {
     "data": {
      "text/plain": [
       "\n",
       "*---------------------------------*\n",
       "*          GARCH Model Fit        *\n",
       "*---------------------------------*\n",
       "\n",
       "Conditional Variance Dynamics \t\n",
       "-----------------------------------\n",
       "GARCH Model\t: sGARCH(1,1)\n",
       "Mean Model\t: ARFIMA(0,0,0)\n",
       "Distribution\t: sstd \n",
       "\n",
       "Optimal Parameters\n",
       "------------------------------------\n",
       "        Estimate  Std. Error  t value Pr(>|t|)\n",
       "mu      0.000922    0.001129  0.81662 0.414144\n",
       "archm  -1.862237    1.512387 -1.23132 0.218202\n",
       "omega   0.000051    0.000021  2.44121 0.014638\n",
       "alpha1  0.174699    0.044739  3.90489 0.000094\n",
       "beta1   0.795493    0.048871 16.27733 0.000000\n",
       "skew    1.045417    0.041893 24.95456 0.000000\n",
       "shape   3.536939    0.387324  9.13174 0.000000\n",
       "\n",
       "Robust Standard Errors:\n",
       "        Estimate  Std. Error  t value Pr(>|t|)\n",
       "mu      0.000922    0.001178  0.78286 0.433709\n",
       "archm  -1.862237    1.330963 -1.39916 0.161764\n",
       "omega   0.000051    0.000026  1.95871 0.050146\n",
       "alpha1  0.174699    0.048143  3.62872 0.000285\n",
       "beta1   0.795493    0.061021 13.03647 0.000000\n",
       "skew    1.045417    0.045499 22.97659 0.000000\n",
       "shape   3.536939    0.359482  9.83900 0.000000\n",
       "\n",
       "LogLikelihood : 2814.719 \n",
       "\n",
       "Information Criteria\n",
       "------------------------------------\n",
       "                    \n",
       "Akaike       -4.6180\n",
       "Bayes        -4.5886\n",
       "Shibata      -4.6180\n",
       "Hannan-Quinn -4.6069\n",
       "\n",
       "Weighted Ljung-Box Test on Standardized Residuals\n",
       "------------------------------------\n",
       "                        statistic p-value\n",
       "Lag[1]                      2.475  0.1157\n",
       "Lag[2*(p+q)+(p+q)-1][2]     2.530  0.1882\n",
       "Lag[4*(p+q)+(p+q)-1][5]     3.496  0.3239\n",
       "d.o.f=0\n",
       "H0 : No serial correlation\n",
       "\n",
       "Weighted Ljung-Box Test on Standardized Squared Residuals\n",
       "------------------------------------\n",
       "                        statistic p-value\n",
       "Lag[1]                     0.6274  0.4283\n",
       "Lag[2*(p+q)+(p+q)-1][5]    3.8632  0.2716\n",
       "Lag[4*(p+q)+(p+q)-1][9]    5.4849  0.3618\n",
       "d.o.f=2\n",
       "\n",
       "Weighted ARCH LM Tests\n",
       "------------------------------------\n",
       "            Statistic Shape Scale P-Value\n",
       "ARCH Lag[3]    0.1499 0.500 2.000  0.6987\n",
       "ARCH Lag[5]    2.8040 1.440 1.667  0.3195\n",
       "ARCH Lag[7]    3.4784 2.315 1.543  0.4281\n",
       "\n",
       "Nyblom stability test\n",
       "------------------------------------\n",
       "Joint Statistic:  2.535\n",
       "Individual Statistics:              \n",
       "mu     0.10052\n",
       "archm  0.09214\n",
       "omega  0.92139\n",
       "alpha1 1.07013\n",
       "beta1  1.00496\n",
       "skew   0.72057\n",
       "shape  1.04001\n",
       "\n",
       "Asymptotic Critical Values (10% 5% 1%)\n",
       "Joint Statistic:     \t 1.69 1.9 2.35\n",
       "Individual Statistic:\t 0.35 0.47 0.75\n",
       "\n",
       "Sign Bias Test\n",
       "------------------------------------\n",
       "                   t-value   prob sig\n",
       "Sign Bias           0.6474 0.5175    \n",
       "Negative Sign Bias  0.7031 0.4821    \n",
       "Positive Sign Bias  0.2882 0.7732    \n",
       "Joint Effect        0.6208 0.8917    \n",
       "\n",
       "\n",
       "Adjusted Pearson Goodness-of-Fit Test:\n",
       "------------------------------------\n",
       "  group statistic p-value(g-1)\n",
       "1    20     19.82      0.40534\n",
       "2    30     30.83      0.37369\n",
       "3    40     47.16      0.17348\n",
       "4    50     67.14      0.04355\n",
       "\n",
       "\n",
       "Elapsed time : 0.9375479 \n"
      ]
     },
     "metadata": {},
     "output_type": "display_data"
    }
   ],
   "source": [
    "garchm_str<-ugarchspec(variance.model =list(model= \"sGARCH\" ,garchOrder =c(1,1), variance.targeting =F), mean.model = list(armaOrder =c(0,0),include.mean =T,archm=T,archpow=2), distribution.model =\"sstd\")\n",
    "garchm_xcdl<-ugarchfit(garchm_str,data=xcdl_logreturn,solver =\"gosolnp\")\n",
    "garchm_xcdl"
   ]
  },
  {
   "cell_type": "code",
   "execution_count": 190,
   "id": "75192b61",
   "metadata": {},
   "outputs": [
    {
     "name": "stdout",
     "output_type": "stream",
     "text": [
      "\n",
      "please wait...calculating quantiles...\n"
     ]
    },
    {
     "data": {
      "image/png": "[encoded data removed]",
      "text/plain": [
       "Plot with title \"News Impact Curve\""
      ]
     },
     "metadata": {
      "image/png": {
       "height": 420,
       "width": 420
      }
     },
     "output_type": "display_data"
    }
   ],
   "source": [
    "par(mfrow=c(3,4))\n",
    "for (i in 1:12){\n",
    "plot(garchm_xcdl,which=i)}"
   ]
  },
  {
   "cell_type": "markdown",
   "id": "e7158f5f",
   "metadata": {},
   "source": [
    "#### 模型如下：\n",
    "- 有偏t分布\n",
    "    $$\n",
    "μ_{t}=-0.000922-1.862698σ_{t}^{2}+α_{t}, \\quad  α_{t}=σ_{t}ξ_{t},\\quadξ_{t}.i.i.d\\sim t^{*}_{1.045446,3.537221}\n",
    "$$\n",
    "$$\n",
    "σ_{t}^2=0.000051+0.174669α_{t-1}^{2} +0.795525σ_{t-1}^{2}\n",
    "$$\n",
    "- 其中archm=-1.862698不显著， 说明西昌电力的月超额收益率不存在GARCH-M现象， 没有风险溢价\n",
    "- 标准化残差序列及其平方序列均能在1%的置信水平下通过Ljung-Box检验，表明其不存在序列相关\n",
    "- 残余ARCH效应检测在5%的置信水平上均通过检验\n",
    "- aic值为-4.6180，比前述Garch（1，1）高\n",
    "- 条件分布的拟合优度检验均通过\n",
    "- 模型拟合效果较好"
   ]
  },
  {
   "cell_type": "markdown",
   "id": "774f3a4d",
   "metadata": {},
   "source": [
    "## 运用课程介绍的所有非对称模型刻画股票对数收益率的非对称波动特征，检验模型结果并分别讨论波动率杠杆效应的基本表现"
   ]
  },
  {
   "cell_type": "markdown",
   "id": "2f577b2e",
   "metadata": {},
   "source": [
    "### EGarch模型建模"
   ]
  },
  {
   "cell_type": "code",
   "execution_count": 191,
   "id": "a42083fd",
   "metadata": {},
   "outputs": [
    {
     "data": {
      "text/plain": [
       "\n",
       "*---------------------------------*\n",
       "*          GARCH Model Fit        *\n",
       "*---------------------------------*\n",
       "\n",
       "Conditional Variance Dynamics \t\n",
       "-----------------------------------\n",
       "GARCH Model\t: eGARCH(1,1)\n",
       "Mean Model\t: ARFIMA(0,0,0)\n",
       "Distribution\t: sstd \n",
       "\n",
       "Optimal Parameters\n",
       "------------------------------------\n",
       "        Estimate  Std. Error  t value Pr(>|t|)\n",
       "mu      0.000365    0.000675  0.54014 0.589102\n",
       "omega  -0.360697    0.079917 -4.51340 0.000006\n",
       "alpha1  0.098230    0.025526  3.84823 0.000119\n",
       "beta1   0.949748    0.010978 86.51058 0.000000\n",
       "gamma1  0.247777    0.045775  5.41290 0.000000\n",
       "skew    1.063048    0.042939 24.75698 0.000000\n",
       "shape   3.572628    0.388828  9.18820 0.000000\n",
       "\n",
       "Robust Standard Errors:\n",
       "        Estimate  Std. Error   t value Pr(>|t|)\n",
       "mu      0.000365    0.000737   0.49523 0.620434\n",
       "omega  -0.360697    0.049922  -7.22514 0.000000\n",
       "alpha1  0.098230    0.023820   4.12382 0.000037\n",
       "beta1   0.949748    0.007041 134.88870 0.000000\n",
       "gamma1  0.247777    0.037810   6.55318 0.000000\n",
       "skew    1.063048    0.047930  22.17916 0.000000\n",
       "shape   3.572628    0.351711  10.15785 0.000000\n",
       "\n",
       "LogLikelihood : 2820.417 \n",
       "\n",
       "Information Criteria\n",
       "------------------------------------\n",
       "                    \n",
       "Akaike       -4.6273\n",
       "Bayes        -4.5980\n",
       "Shibata      -4.6274\n",
       "Hannan-Quinn -4.6163\n",
       "\n",
       "Weighted Ljung-Box Test on Standardized Residuals\n",
       "------------------------------------\n",
       "                        statistic p-value\n",
       "Lag[1]                      3.957 0.04669\n",
       "Lag[2*(p+q)+(p+q)-1][2]     3.977 0.07649\n",
       "Lag[4*(p+q)+(p+q)-1][5]     4.756 0.17366\n",
       "d.o.f=0\n",
       "H0 : No serial correlation\n",
       "\n",
       "Weighted Ljung-Box Test on Standardized Squared Residuals\n",
       "------------------------------------\n",
       "                        statistic p-value\n",
       "Lag[1]                      1.426  0.2324\n",
       "Lag[2*(p+q)+(p+q)-1][5]     3.370  0.3436\n",
       "Lag[4*(p+q)+(p+q)-1][9]     4.590  0.4920\n",
       "d.o.f=2\n",
       "\n",
       "Weighted ARCH LM Tests\n",
       "------------------------------------\n",
       "            Statistic Shape Scale P-Value\n",
       "ARCH Lag[3]    0.1214 0.500 2.000  0.7276\n",
       "ARCH Lag[5]    1.7198 1.440 1.667  0.5365\n",
       "ARCH Lag[7]    2.3439 2.315 1.543  0.6448\n",
       "\n",
       "Nyblom stability test\n",
       "------------------------------------\n",
       "Joint Statistic:  2.3384\n",
       "Individual Statistics:              \n",
       "mu     0.14116\n",
       "omega  0.54263\n",
       "alpha1 0.28112\n",
       "beta1  0.51819\n",
       "gamma1 0.04811\n",
       "skew   0.70816\n",
       "shape  0.63129\n",
       "\n",
       "Asymptotic Critical Values (10% 5% 1%)\n",
       "Joint Statistic:     \t 1.69 1.9 2.35\n",
       "Individual Statistic:\t 0.35 0.47 0.75\n",
       "\n",
       "Sign Bias Test\n",
       "------------------------------------\n",
       "                   t-value   prob sig\n",
       "Sign Bias          0.61365 0.5396    \n",
       "Negative Sign Bias 0.11610 0.9076    \n",
       "Positive Sign Bias 0.06772 0.9460    \n",
       "Joint Effect       0.99748 0.8019    \n",
       "\n",
       "\n",
       "Adjusted Pearson Goodness-of-Fit Test:\n",
       "------------------------------------\n",
       "  group statistic p-value(g-1)\n",
       "1    20     13.11       0.8328\n",
       "2    30     25.25       0.6652\n",
       "3    40     35.71       0.6207\n",
       "4    50     61.22       0.1130\n",
       "\n",
       "\n",
       "Elapsed time : 1.053182 \n"
      ]
     },
     "metadata": {},
     "output_type": "display_data"
    }
   ],
   "source": [
    "egarch_str<-ugarchspec(variance.model =list(model= \"eGARCH\" ,garchOrder =c(1,1), variance.targeting =F), mean.model = list(armaOrder =c(0,0),include.mean =T), distribution.model =\"sstd\")\n",
    "egarch_xcdl<-ugarchfit(egarch_str,data=xcdl_logreturn,solver =\"gosolnp\")\n",
    "egarch_xcdl"
   ]
  },
  {
   "cell_type": "markdown",
   "id": "5466fbc9",
   "metadata": {},
   "source": [
    "#### 模型如下：\n",
    "- 有偏t分布\n",
    "    $$\n",
    "r_{t}=-0.000365+α_{t},   α_{t}=σ_{t}ξ_{t},\\quad ξ_{t}.i.i.d\\sim t^{*}_{1.063053,3.572635}\n",
    "$$\n",
    "$$\n",
    "lnσ_{t}^{2}=-0.360716+0.098231ξ_{t-1} + 0.24777(|ξ_{t-1}|-E|ξ_{t-1}|)+0.949745lnσ_{t-1}^{2}\n",
    "$$\n",
    "- 取$$ξ_{t-1}=\\pm 2 $$时，不同正负号的取值引起的的σ<sub>t<sup>2变化比值为\n",
    "    $$\n",
    "    e^{4*(-0.098231)}=0.675\n",
    "    \\quad\n",
    "    $$ \n",
    "    \n",
    "    - 即正向冲击对股价波动影响反而更加剧烈，幅度相等的负的扰动比正的扰动额外减少32.5%的波动率平方\n",
    "\n",
    "\n",
    "- 输出中参数alpha1=0.098231代表了正负收益率对波动率不对称影响的杠杆效应， 在0.05水平下这一项不显著， 说明杠杆效应可以忽略。\n",
    "- aic值为-4.6273\n",
    "- 残差序列未通过白噪声检验，但残差平方序列通过了白噪声的检验\n",
    "- 残余ARCH效应检验通过，不存在ARCH效应\n",
    "- 参数稳定性检验不通过\n",
    "- 杠杆效应检验结果不显著\n",
    "- 残差分布符合假设"
   ]
  },
  {
   "cell_type": "markdown",
   "id": "21f2af07",
   "metadata": {},
   "source": [
    "### TGARCH模型建模"
   ]
  },
  {
   "cell_type": "code",
   "execution_count": 192,
   "id": "5c1f356b",
   "metadata": {},
   "outputs": [
    {
     "data": {
      "text/plain": [
       "\n",
       "*---------------------------------*\n",
       "*          GARCH Model Fit        *\n",
       "*---------------------------------*\n",
       "\n",
       "Conditional Variance Dynamics \t\n",
       "-----------------------------------\n",
       "GARCH Model\t: gjrGARCH(1,1)\n",
       "Mean Model\t: ARFIMA(0,0,0)\n",
       "Distribution\t: sstd \n",
       "\n",
       "Optimal Parameters\n",
       "------------------------------------\n",
       "        Estimate  Std. Error  t value Pr(>|t|)\n",
       "mu      0.000227    0.000672  0.33825 0.735173\n",
       "omega   0.000038    0.000015  2.58302 0.009794\n",
       "alpha1  0.214266    0.054755  3.91316 0.000091\n",
       "beta1   0.844193    0.036385 23.20169 0.000000\n",
       "gamma1 -0.160900    0.049041 -3.28094 0.001035\n",
       "skew    1.059387    0.042548 24.89856 0.000000\n",
       "shape   3.565379    0.385750  9.24271 0.000000\n",
       "\n",
       "Robust Standard Errors:\n",
       "        Estimate  Std. Error  t value Pr(>|t|)\n",
       "mu      0.000227    0.000734  0.30995 0.756596\n",
       "omega   0.000038    0.000017  2.22489 0.026089\n",
       "alpha1  0.214266    0.055859  3.83581 0.000125\n",
       "beta1   0.844193    0.041807 20.19264 0.000000\n",
       "gamma1 -0.160900    0.046916 -3.42954 0.000605\n",
       "skew    1.059387    0.047660 22.22817 0.000000\n",
       "shape   3.565379    0.347521 10.25945 0.000000\n",
       "\n",
       "LogLikelihood : 2821.503 \n",
       "\n",
       "Information Criteria\n",
       "------------------------------------\n",
       "                    \n",
       "Akaike       -4.6291\n",
       "Bayes        -4.5997\n",
       "Shibata      -4.6292\n",
       "Hannan-Quinn -4.6181\n",
       "\n",
       "Weighted Ljung-Box Test on Standardized Residuals\n",
       "------------------------------------\n",
       "                        statistic p-value\n",
       "Lag[1]                      3.321 0.06842\n",
       "Lag[2*(p+q)+(p+q)-1][2]     3.331 0.11421\n",
       "Lag[4*(p+q)+(p+q)-1][5]     4.109 0.24073\n",
       "d.o.f=0\n",
       "H0 : No serial correlation\n",
       "\n",
       "Weighted Ljung-Box Test on Standardized Squared Residuals\n",
       "------------------------------------\n",
       "                        statistic p-value\n",
       "Lag[1]                     0.5918  0.4417\n",
       "Lag[2*(p+q)+(p+q)-1][5]    2.5681  0.4916\n",
       "Lag[4*(p+q)+(p+q)-1][9]    3.8185  0.6197\n",
       "d.o.f=2\n",
       "\n",
       "Weighted ARCH LM Tests\n",
       "------------------------------------\n",
       "            Statistic Shape Scale P-Value\n",
       "ARCH Lag[3]   0.03605 0.500 2.000  0.8494\n",
       "ARCH Lag[5]   1.81731 1.440 1.667  0.5130\n",
       "ARCH Lag[7]   2.46031 2.315 1.543  0.6206\n",
       "\n",
       "Nyblom stability test\n",
       "------------------------------------\n",
       "Joint Statistic:  2.4275\n",
       "Individual Statistics:             \n",
       "mu     0.1370\n",
       "omega  0.6024\n",
       "alpha1 0.3683\n",
       "beta1  0.5769\n",
       "gamma1 0.1110\n",
       "skew   0.6905\n",
       "shape  0.7775\n",
       "\n",
       "Asymptotic Critical Values (10% 5% 1%)\n",
       "Joint Statistic:     \t 1.69 1.9 2.35\n",
       "Individual Statistic:\t 0.35 0.47 0.75\n",
       "\n",
       "Sign Bias Test\n",
       "------------------------------------\n",
       "                   t-value   prob sig\n",
       "Sign Bias           0.1868 0.8518    \n",
       "Negative Sign Bias  0.2194 0.8264    \n",
       "Positive Sign Bias  0.3833 0.7016    \n",
       "Joint Effect        0.6619 0.8821    \n",
       "\n",
       "\n",
       "Adjusted Pearson Goodness-of-Fit Test:\n",
       "------------------------------------\n",
       "  group statistic p-value(g-1)\n",
       "1    20     20.12       0.3875\n",
       "2    30     21.20       0.8516\n",
       "3    40     39.33       0.4551\n",
       "4    50     57.68       0.1850\n",
       "\n",
       "\n",
       "Elapsed time : 1.257161 \n"
      ]
     },
     "metadata": {},
     "output_type": "display_data"
    }
   ],
   "source": [
    "tgarch_str<-ugarchspec(variance.model =list(model= \"gjrGARCH\" ,garchOrder =c(1,1), variance.targeting =F), mean.model = list(armaOrder =c(0,0),include.mean =T), distribution.model =\"sstd\")\n",
    "tgarch_xcdl<-ugarchfit(tgarch_str,data=xcdl_logreturn,solver =\"gosolnp\")\n",
    "tgarch_xcdl"
   ]
  },
  {
   "cell_type": "markdown",
   "id": "07dc5088",
   "metadata": {},
   "source": [
    "#### 模型如下：\n",
    "- 有偏t分布\n",
    "    $$\n",
    "r_{t}=-0.000227+α_{t}, \\quad  α_{t}=σ_{t}ξ_{t},\\quadξ_{t}.i.i.d\\sim t^{*}_{1.059391,3.565129}\n",
    "$$\n",
    "$$\n",
    "σ_{t}^2=0.000038+(0.214254-0.160899N_{t-1})α_{t-1}^{2} +0.84421σ_{t-1}^{2}\n",
    "$$\n",
    "- 模型结果中mu不显著，在0.05水平下gamma1不显著， 说明杠杆效应不显著。\n",
    "- aic值为-4.6307\n",
    "- 残差序列通过白噪声检验，残差平方序列也通过了白噪声的检验\n",
    "- 残余ARCH效应检验通过，不存在ARCH效应\n",
    "- 参数稳定性检验不通过\n",
    "- 杠杆效应检验结果不显著\n",
    "- 残差分布符合假设"
   ]
  },
  {
   "cell_type": "markdown",
   "id": "df2e86ca",
   "metadata": {},
   "source": [
    "### APARCH模型建模"
   ]
  },
  {
   "cell_type": "code",
   "execution_count": 193,
   "id": "ac99b0ec",
   "metadata": {},
   "outputs": [
    {
     "name": "stdout",
     "output_type": "stream",
     "text": [
      "\n",
      "Title:\n",
      " GARCH Modelling \n",
      "\n",
      "Call:\n",
      " garchFit(formula = ~1 + aparch(1, 1), data = xcdl_logreturn, \n",
      "    trace = F) \n",
      "\n",
      "Mean and Variance Equation:\n",
      " data ~ 1 + aparch(1, 1)\n",
      "<environment: 0x000001dfc72a1a10>\n",
      " [data = xcdl_logreturn]\n",
      "\n",
      "Conditional Distribution:\n",
      " norm \n",
      "\n",
      "Coefficient(s):\n",
      "         mu        omega       alpha1       gamma1        beta1        delta  \n",
      " 0.00012616   0.00011617   0.08280318  -0.26885167   0.86292893   1.73519748  \n",
      "\n",
      "Std. Errors:\n",
      " based on Hessian \n",
      "\n",
      "Error Analysis:\n",
      "         Estimate  Std. Error  t value Pr(>|t|)    \n",
      "mu      1.262e-04   7.192e-04    0.175 0.860751    \n",
      "omega   1.162e-04   3.588e-05    3.237 0.001207 ** \n",
      "alpha1  8.280e-02   2.412e-02    3.433 0.000597 ***\n",
      "gamma1 -2.689e-01   1.162e-01   -2.314 0.020678 *  \n",
      "beta1   8.629e-01   3.293e-02   26.207  < 2e-16 ***\n",
      "delta   1.735e+00   3.666e-01    4.734  2.2e-06 ***\n",
      "---\n",
      "Signif. codes:  0 '***' 0.001 '**' 0.01 '*' 0.05 '.' 0.1 ' ' 1\n",
      "\n",
      "Log Likelihood:\n",
      " 2726.266    normalized:  2.241995 \n",
      "\n",
      "Description:\n",
      " Fri Apr 28 16:01:45 2023 by user: 20392 \n",
      "\n",
      "\n",
      "Standardised Residuals Tests:\n",
      "                                Statistic p-Value  \n",
      " Jarque-Bera Test   R    Chi^2  676.6407  0        \n",
      " Shapiro-Wilk Test  R    W      0.9528297 0        \n",
      " Ljung-Box Test     R    Q(10)  10.78626  0.3744109\n",
      " Ljung-Box Test     R    Q(15)  12.89649  0.6102927\n",
      " Ljung-Box Test     R    Q(20)  14.53876  0.8021637\n",
      " Ljung-Box Test     R^2  Q(10)  7.295071  0.6973256\n",
      " Ljung-Box Test     R^2  Q(15)  8.748725  0.890285 \n",
      " Ljung-Box Test     R^2  Q(20)  13.73902  0.8434778\n",
      " LM Arch Test       R    TR^2   8.163489  0.7722273\n",
      "\n",
      "Information Criterion Statistics:\n",
      "      AIC       BIC       SIC      HQIC \n",
      "-4.474122 -4.448941 -4.474170 -4.464643 \n",
      "\n"
     ]
    }
   ],
   "source": [
    "apgarch_xcdl<-garchFit(~1+aparch(1,1),data=xcdl_logreturn,trace=F)\n",
    "summary(apgarch_xcdl)"
   ]
  },
  {
   "cell_type": "markdown",
   "id": "dcdc8632",
   "metadata": {},
   "source": [
    "#### 模型如下：\n",
    "- 正态分布\n",
    "    $$\n",
    "r_{t}=1.262*10^{-4}+α_{t}, \\quad  α_{t}=σ_{t}ξ_{t},\\quadξ_{t}.i.i.d\\sim N(0,1)\n",
    "$$\n",
    "$$\n",
    "σ_{t}^{1.735}=1.162*10^{-4}+0.0828(|α_{t-1}|+0.2689α_{t-1})^{1.735} +0.8629σ_{t-1}^{1.735}\n",
    "$$\n",
    "- gamma在0.05水平下显著，表明杠杆效应刻画较为显著\n",
    "- aic值为-4.474122\n",
    "- 残差序列及其平方序列均为白噪声，模型拟合充分"
   ]
  },
  {
   "cell_type": "markdown",
   "id": "c789d41b",
   "metadata": {},
   "source": [
    "## 测算该股票的时变贝塔系数，并讨论偏离其出现偏离平均水平的原因"
   ]
  },
  {
   "cell_type": "markdown",
   "id": "283f41fc",
   "metadata": {},
   "source": [
    "### 时变贝塔系数计算"
   ]
  },
  {
   "cell_type": "code",
   "execution_count": 194,
   "id": "8bd0def1",
   "metadata": {},
   "outputs": [],
   "source": [
    "szzs<-read.csv(\"2017-2022上证指数.csv\")\n",
    "szzs_time<-as.Date(ymd(szzs$date))\n",
    "szzs_price<-xts(szzs$close,order.by = szzs_time)\n",
    "szzs_logreturn<-dailyReturn(szzs_price,type=\"log\")[-1]\n",
    "s_s_p<-szzs_logreturn+xcdl_logreturn\n",
    "s_s_m<-xcdl_logreturn-szzs_logreturn\n",
    "garch_ssp<-garchFit(~1+garch(1,1),data=s_s_p,trace=F)\n",
    "garch_ssm<-garchFit(~1+garch(1,1),data=s_s_m,trace=F)\n",
    "garch_shanghai<-garchFit(~1+garch(1,1),data=szzs_logreturn,trace = F)\n",
    "vol_p<-garch_ssp@sigma.t\n",
    "vol_m<-garch_ssm@sigma.t\n",
    "vol_shanghai<-garch_shanghai@sigma.t\n",
    "beta<-(vol_p^2-vol_m^2)/(4*vol_shanghai^2)\n",
    "market<-lm(xcdl_logreturn~0+szzs_logreturn)"
   ]
  },
  {
   "cell_type": "code",
   "execution_count": 195,
   "id": "202be254",
   "metadata": {},
   "outputs": [
    {
     "data": {
      "text/html": [
       "<time datetime=\"2019-09-17\">2019-09-17</time>"
      ],
      "text/latex": [
       "2019-09-17"
      ],
      "text/markdown": [
       "2019-09-17"
      ],
      "text/plain": [
       "[1] \"2019-09-17\""
      ]
     },
     "metadata": {},
     "output_type": "display_data"
    }
   ],
   "source": [
    "outlier<-c(1:1216)[beta==max(beta)]\n",
    "time[outlier]"
   ]
  },
  {
   "cell_type": "code",
   "execution_count": 196,
   "id": "cd16dc03",
   "metadata": {},
   "outputs": [
    {
     "data": {
      "image/png": "[encoded data removed]",
      "text/plain": [
       "plot without title"
      ]
     },
     "metadata": {
      "image/png": {
       "height": 420,
       "width": 420
      }
     },
     "output_type": "display_data"
    },
    {
     "data": {
      "image/png": "[encoded data removed]",
      "text/plain": [
       "plot without title"
      ]
     },
     "metadata": {
      "image/png": {
       "height": 420,
       "width": 420
      }
     },
     "output_type": "display_data"
    }
   ],
   "source": [
    "plot(szzs_time[-1],beta,type=\"l\")\n",
    "abline(h=c(market$coefficients),col='red')\n",
    "par(mfrow=c(3,1))\n",
    "plot(time,beta,xlab =\"时间\", ylab =\"beta\",type =\"l\")\n",
    "plot(time,xcdl_close_price[-1],xlab =\"时间\", ylab =\"西昌电力\",type =\"l\")\n",
    "plot(time,szzs_price[-1],xlab =\"时间\", ylab =\"上证指数\",type =\"l\")\n",
    "par(mfrow=c(1,1))"
   ]
  },
  {
   "cell_type": "markdown",
   "id": "18af0b7d",
   "metadata": {},
   "source": [
    "### 出现偏离平均水平的原因"
   ]
  },
  {
   "cell_type": "markdown",
   "id": "d8d03b67",
   "metadata": {},
   "source": [
    "- 最大的偏离出现在2019年9月17日，9月17日其beta产生巨大波动可能是因为其在前两天的交易中收获两根大阳线，股价迅速攀升，而在9月17日股价迅速跌落，使得其对市场价格变动极为敏感\n",
    "- 西昌电力beta值出现偏离的时间其价格走势与市场走势没有相同的趋势，因为西昌电力的市值小，仅为30亿元左右，其价格易于被资金操纵"
   ]
  },
  {
   "cell_type": "markdown",
   "id": "b769fc99",
   "metadata": {},
   "source": [
    "## 比较基于纯时间序列模型 ARIMA 和 GARCH 模型对所选取股票收益率样本外预测的精度"
   ]
  },
  {
   "cell_type": "markdown",
   "id": "a76bd3ed",
   "metadata": {},
   "source": [
    "#### 选择garch（1，1），有偏t分布进行预测"
   ]
  },
  {
   "cell_type": "code",
   "execution_count": 197,
   "id": "699d0a37",
   "metadata": {
    "scrolled": true
   },
   "outputs": [
    {
     "name": "stdout",
     "output_type": "stream",
     "text": [
      "[1] \"RMSE of out-of-sample forecasts\"\n",
      "[1] 0.03114354\n",
      "[1] \"Mean absolute error of out-of-sample forecasts\"\n",
      "[1] 0.02226942\n",
      "[1] \"RMSE of out-of-sample forecasts\"\n",
      "[1] 0.03114531\n",
      "[1] \"Mean absolute error of out-of-sample forecasts\"\n",
      "[1] 0.02228452\n"
     ]
    }
   ],
   "source": [
    "source(\"backtest.R\")\n",
    "source(\"backtestGarch.R\")\n",
    "m1<-auto.arima(xcdl_logreturn)\n",
    "m1f=backtest(m1,xcdl_logreturn,650,1,inc.mean=F)\n",
    "m2<-backtestGarch(xcdl_logreturn,650,1,inc.mean=F,cdist = \"sstd\")"
   ]
  },
  {
   "cell_type": "markdown",
   "id": "d888ce33",
   "metadata": {},
   "source": [
    "#### 可以看到，纯时间序列模型ARIMA的预测精度要略低于GARCH模型"
   ]
  }
 ],
 "metadata": {
  "kernelspec": {
   "display_name": "R",
   "language": "R",
   "name": "ir"
  },
  "language_info": {
   "codemirror_mode": "r",
   "file_extension": ".r",
   "mimetype": "text/x-r-source",
   "name": "R",
   "pygments_lexer": "r",
   "version": "4.2.2"
  }
 },
 "nbformat": 4,
 "nbformat_minor": 5
}
