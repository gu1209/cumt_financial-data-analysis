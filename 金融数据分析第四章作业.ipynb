{
 "cells": [
  {
   "cell_type": "markdown",
   "id": "66b0ba58",
   "metadata": {},
   "source": [
    "#### 导入包与数据预处理"
   ]
  },
  {
   "cell_type": "code",
   "execution_count": 5,
   "id": "a9ffc740",
   "metadata": {},
   "outputs": [],
   "source": [
    "options(warn=-1)"
   ]
  },
  {
   "cell_type": "code",
   "execution_count": 6,
   "id": "e709ffeb",
   "metadata": {},
   "outputs": [],
   "source": [
    "library(lubridate)\n",
    "library(xts)\n",
    "library(quantmod)\n",
    "library(Tushare)\n",
    "library(TSA)\n",
    "library(fUnitRoots)\n",
    "library(urca)\n",
    "library(fBasics)\n",
    "library(forecast)\n",
    "library(FinTS)\n",
    "library(fGarch)\n",
    "library(rugarch)\n",
    "library(PerformanceAnalytics)\n",
    "library(quantreg)"
   ]
  },
  {
   "cell_type": "code",
   "execution_count": 7,
   "id": "c4ec9836",
   "metadata": {},
   "outputs": [],
   "source": [
    "api<-pro_api(token=\"731ee2eafa47ae6b8c98993e8b30001b51bd3085cd69d63870e745c9\")\n",
    "xcdl<-api(api_name ='daily',ts_code ='600505.SH',start_date='20170101',end_date='20220101')\n",
    "time<-as.Date(ymd(xcdl$trade_date))\n",
    "new_time<-as.Date(ymd(xcdl$trade_date[1:243]))\n",
    "xcdl_close_price<-xts(xcdl$close,order.by=time)\n",
    "xcdl_logreturn<-dailyReturn(xcdl_close_price,type =\"log\")[-1]#计算红相股份简单收益率"
   ]
  },
  {
   "cell_type": "markdown",
   "id": "61aa9e46",
   "metadata": {},
   "source": [
    "# 运用选取的股票进行在险价值的测算与分析"
   ]
  },
  {
   "cell_type": "markdown",
   "id": "f415b314",
   "metadata": {},
   "source": [
    "## 分别运用 delta normal 方法、历史模拟法、 Monte Carlo 模拟法计算该只股票的VaR 和 ES 值（考虑尾部概率为 5% 和 1% 两种情形）"
   ]
  },
  {
   "cell_type": "code",
   "execution_count": 8,
   "id": "f515c160",
   "metadata": {},
   "outputs": [
    {
     "data": {
      "text/html": [
       "<table class=\"dataframe\">\n",
       "<caption>A matrix: 1 × 1 of type dbl</caption>\n",
       "<thead>\n",
       "\t<tr><th></th><th scope=col>daily.returns</th></tr>\n",
       "</thead>\n",
       "<tbody>\n",
       "\t<tr><th scope=row>VaR</th><td>-0.04390758</td></tr>\n",
       "</tbody>\n",
       "</table>\n"
      ],
      "text/latex": [
       "A matrix: 1 × 1 of type dbl\n",
       "\\begin{tabular}{r|l}\n",
       "  & daily.returns\\\\\n",
       "\\hline\n",
       "\tVaR & -0.04390758\\\\\n",
       "\\end{tabular}\n"
      ],
      "text/markdown": [
       "\n",
       "A matrix: 1 × 1 of type dbl\n",
       "\n",
       "| <!--/--> | daily.returns |\n",
       "|---|---|\n",
       "| VaR | -0.04390758 |\n",
       "\n"
      ],
      "text/plain": [
       "    daily.returns\n",
       "VaR -0.04390758  "
      ]
     },
     "metadata": {},
     "output_type": "display_data"
    },
    {
     "data": {
      "text/html": [
       "<table class=\"dataframe\">\n",
       "<caption>A matrix: 1 × 1 of type dbl</caption>\n",
       "<thead>\n",
       "\t<tr><th></th><th scope=col>daily.returns</th></tr>\n",
       "</thead>\n",
       "<tbody>\n",
       "\t<tr><th scope=row>VaR</th><td>-0.07180222</td></tr>\n",
       "</tbody>\n",
       "</table>\n"
      ],
      "text/latex": [
       "A matrix: 1 × 1 of type dbl\n",
       "\\begin{tabular}{r|l}\n",
       "  & daily.returns\\\\\n",
       "\\hline\n",
       "\tVaR & -0.07180222\\\\\n",
       "\\end{tabular}\n"
      ],
      "text/markdown": [
       "\n",
       "A matrix: 1 × 1 of type dbl\n",
       "\n",
       "| <!--/--> | daily.returns |\n",
       "|---|---|\n",
       "| VaR | -0.07180222 |\n",
       "\n"
      ],
      "text/plain": [
       "    daily.returns\n",
       "VaR -0.07180222  "
      ]
     },
     "metadata": {},
     "output_type": "display_data"
    }
   ],
   "source": [
    "#基于delta normal\n",
    "#计算VaR\n",
    "var_xcdl_1<-abs(qnorm(0.05,mean(xcdl_logreturn),sd(xcdl_logreturn)))\n",
    "#计算ES\n",
    "sloss<-sort( -as.numeric(xcdl_logreturn ),decreasing=F)\n",
    "es_1<-sum(sloss[sloss>=var_xcdl_1])/length(sloss[sloss>var_xcdl_1])\n",
    "#计算VAR\n",
    "var_xcdl_2<-abs(mean(xcdl_logreturn)+qnorm(0.95)*sd(xcdl_logreturn))\n",
    "#计算ES\n",
    "es_2<-sum(sloss[sloss>=var_xcdl_2])/length(sloss[sloss>var_xcdl_2])\n",
    "#基于历史模拟法\n",
    "xcdl_sort=sort(xcdl_logreturn)\n",
    "var_xcdl_3<-quantile(-xcdl_sort,0.95,low=T)\n",
    "VaR(xcdl_sort,p =0.95,method=\"historical\")\n",
    "es_3<-sum(sloss[sloss>=var_xcdl_3])/length(sloss[sloss>var_xcdl_3])\n",
    "#基于蒙特卡洛\n",
    "xcdl_mt<-rnorm(10000000,mean(xcdl_logreturn),sd(xcdl_logreturn))\n",
    "var_xcdl_4<-quantile(-xcdl_mt,0.95,low=T)\n",
    "es_4<-sum(sloss[sloss>=var_xcdl_4])/length(sloss[sloss>var_xcdl_4])\n",
    "#基于delta normal\n",
    "#计算VaR\n",
    "var_1_xcdl_1<-abs(qnorm(0.01,mean(xcdl_logreturn),sd(xcdl_logreturn)))\n",
    "#计算ES\n",
    "sloss<-sort( -as.numeric(xcdl_logreturn ),decreasing=F)\n",
    "es_1_1<-sum(sloss[sloss>=var_1_xcdl_1])/length(sloss[sloss>var_1_xcdl_1])\n",
    "#计算VAR\n",
    "var_1_xcdl_2<-abs(mean(xcdl_logreturn)+qnorm(0.99)*sd(xcdl_logreturn))\n",
    "#计算ES\n",
    "es_1_2<-sum(sloss[sloss>=var_1_xcdl_2])/length(sloss[sloss>var_1_xcdl_2])\n",
    "#基于历史模拟法\n",
    "xcdl_sort=sort(xcdl_logreturn)\n",
    "var_1_xcdl_3<-quantile(-xcdl_sort,0.99,low=T)\n",
    "VaR(xcdl_sort,p =0.99,method=\"historical\")\n",
    "es_1_3<-sum(sloss[sloss>=var_1_xcdl_3])/length(sloss[sloss>var_1_xcdl_3])\n",
    "#基于蒙特卡洛\n",
    "xcdl_mt<-rnorm(10000000,mean(xcdl_logreturn),sd(xcdl_logreturn))\n",
    "var_1_xcdl_4<-quantile(-xcdl_mt,0.99,low=T)\n",
    "es_1_4<-sum(sloss[sloss>=var_1_xcdl_4])/length(sloss[sloss>var_1_xcdl_4])"
   ]
  },
  {
   "cell_type": "markdown",
   "id": "36be79e8",
   "metadata": {},
   "source": [
    "## 运用风险度量制计算该只股票 1 天和 10 天的 VaR 和 ES 值（考虑尾部概率为 5% 和1% 两种情形）"
   ]
  },
  {
   "cell_type": "code",
   "execution_count": 9,
   "id": "67ad4c0a",
   "metadata": {},
   "outputs": [],
   "source": [
    "spec1<-ugarchspec(variance.model =list(model= \"iGARCH\", garchOrder =c(1,1)), mean.model = list(armaOrder =c(0,0), include.mean = F),distribution.model =\"norm\", fixed.pars =list(omega=0 ,alpha1=0.06))\n",
    "forecast1<-ugarchforecast(spec1, xcdl_logreturn,n.roll =0,n.ahead=1,out.sample=0)\n",
    "#0.95 一天\n",
    "var_xcdl_5<-qnorm(0.95)*forecast1@forecast$sigmaFor\n",
    "es_5<-dnorm(qnorm (0.95))*forecast1@forecast$sigmaFor/0.05\n",
    "# 0.95 10天\n",
    "var_xcdl_5_1<-qnorm(0.95)*forecast1@forecast$sigmaFor*sqrt(10)\n",
    "es_5_1<-dnorm(qnorm (0.95))*forecast1@forecast$sigmaFor*sqrt(10)/0.05\n",
    "#0.99 1天\n",
    "var_xcdl_6<-qnorm(0.99)*forecast1@forecast$sigmaFor\n",
    "es_6<-dnorm(qnorm (0.99))*forecast1@forecast$sigmaFor/0.05\n",
    "#0.99 10天\n",
    "var_xcdl_6_1<-qnorm(0.99)*forecast1@forecast$sigmaFor*sqrt(10)\n",
    "es_6_1<-dnorm(qnorm (0.99))*forecast1@forecast$sigmaFor*sqrt(10)/0.05"
   ]
  },
  {
   "cell_type": "markdown",
   "id": "95580f33",
   "metadata": {},
   "source": [
    "## 运用 GARCH 模型计算并比较不同条件分布假设下计算该只股票 1 天和 10 天的 VaR和 ES 值（考虑尾部概率为 5% 和 1% 两种情形）"
   ]
  },
  {
   "cell_type": "code",
   "execution_count": 12,
   "id": "8f2430ad",
   "metadata": {},
   "outputs": [],
   "source": [
    "#正态分布\n",
    "xcdl_garch<-garchFit(formula=~garch (1,1),data =xcdl_logreturn, cond.dist =c(\"norm\"),trace= F,include.mean =F)\n",
    "xcdl_pre_1<-predict(xcdl_garch,n.ahead=1)\n",
    "#0.95 1天\n",
    "var_xcdl_7<-xcdl_pre_1$meanForecast+xcdl_pre_1$standardDeviation*qnorm(0.95)\n",
    "es_7<-xcdl_pre_1$meanForecast+xcdl_pre_1$standardDeviation*dnorm(qnorm(0.95))/(1-0.95)\n",
    "#0.99 1天\n",
    "var_xcdl_8<-xcdl_pre_1$meanForecast+xcdl_pre_1$standardDeviation*qnorm(0.99)\n",
    "es_8<-xcdl_pre_1$meanForecast+xcdl_pre_1$standardDeviation*dnorm(qnorm(0.99))/(1-0.99)\n",
    "#标准t分布\n",
    "xcdl_garch_1<-garchFit(formula=~garch (1,1),data =xcdl_logreturn, cond.dist =c(\"std\"),trace= F,include.mean =F)\n",
    "xcdl_pre_3<-predict(xcdl_garch_1,n.ahead=1)\n",
    "#0.95 1天\n",
    "var_xcdl_9<-xcdl_pre_3$meanForecast+xcdl_pre_3$standardDeviation*qnorm(0.95)\n",
    "es_9<-xcdl_pre_3$meanForecast+xcdl_pre_3$standardDeviation*dnorm(qnorm(0.95))/(1-0.95)\n",
    "#0.99 1天\n",
    "var_xcdl_10<-xcdl_pre_3$meanForecast+xcdl_pre_3$standardDeviation*qnorm(0.99)\n",
    "es_10<-xcdl_pre_3$meanForecast+xcdl_pre_3$standardDeviation*dnorm(qnorm(0.99))/(1-0.99)\n",
    "#多期\n",
    "#标准t分布\n",
    "source(\"SimGarcht.R\")\n",
    "vol<-volatility(xcdl_garch_1)\n",
    "a1<-c(xcdl_garch_1@fit$coef[\"omega\"],xcdl_garch_1@fit$coef[\"alpha1\"])\n",
    "b1<-xcdl_garch_1@fit$coef[\"beta1\"];\n",
    "mu=0\n",
    "ini=c(coredata(xcdl_logreturn[1216]),vol[1216])\n",
    "simgarcht_xcdl_1<-SimGarcht(h=10,mu=mu,alpha = a1,b1=b1,df=xcdl_garch_1@fit$coef[\"shape\"],ini=ini,nter = 30000)\n",
    "sim_r_xcdl<-simgarcht_xcdl_1$rtn\n",
    "var_xcdl_11<-quantile(-sim_r_xcdl,0.95)\n",
    "tail_sh<-c(1:30000)[ -sim_r_xcdl >var_xcdl_11]\n",
    "es_11<-mean( -sim_r_xcdl [tail_sh])\n",
    "var_xcdl_12<-quantile(-sim_r_xcdl,0.99)\n",
    "tail_sh<-c(1:30000)[ -sim_r_xcdl >var_xcdl_12]\n",
    "es_12<-mean( -sim_r_xcdl [tail_sh])\n",
    "#正态分布\n",
    "vol<-volatility(xcdl_garch)\n",
    "a1<-c(xcdl_garch@fit$coef[\"omega\"],xcdl_garch@fit$coef[\"alpha1\"])\n",
    "b1<-xcdl_garch@fit$coef[\"beta1\"];\n",
    "mu=0\n",
    "ini=c(coredata(xcdl_logreturn[1216]),vol[1216])\n",
    "simgarcht_xcdl_1<-SimGarcht(h=10,mu=mu,alpha = a1,b1=b1,ini=ini,nter = 30000)\n",
    "sim_r_xcdl<-simgarcht_xcdl_1$rtn\n",
    "var_xcdl_17<-quantile(-sim_r_xcdl,0.95)\n",
    "tail_sh<-c(1:30000)[ -sim_r_xcdl >var_xcdl_17]\n",
    "es_17<-mean( -sim_r_xcdl [tail_sh])\n",
    "var_xcdl_18<-quantile(-sim_r_xcdl,0.99)\n",
    "tail_sh<-c(1:30000)[ -sim_r_xcdl >var_xcdl_18]\n",
    "es_18<-mean( -sim_r_xcdl [tail_sh])"
   ]
  },
  {
   "cell_type": "markdown",
   "id": "e832a56e",
   "metadata": {},
   "source": [
    "## 运用分位数回归的方法计算并比较不同条件分布假设下以交易量为解释变量，计算该只股票 1 天和 10 天的 VaR 和 ES 值（考虑尾部概率为 5% 和 1%)"
   ]
  },
  {
   "cell_type": "code",
   "execution_count": 13,
   "id": "f0bf20c3",
   "metadata": {},
   "outputs": [],
   "source": [
    "xcdl_volume<-as.numeric(xcdl$vol)\n",
    "xcdl_volume<-(log(xcdl_volume))[-1]\n",
    "XCDL<-data.frame(xcdl_logreturn,xcdl_volume)\n",
    "fit1<-rq(formula = xcdl_logreturn~xcdl_volume,tau = 0.05,data = XCDL)\n",
    "#0.95 1天\n",
    "xcdl_pre<-api(api_name ='daily',ts_code ='600505.SH',start_date='20220101',end_date='20220201')\n",
    "xcdl_volume_pre<-as.numeric(xcdl_pre$vol)\n",
    "xcdl_volume_pre<-(log(xcdl_volume_pre))[-1]\n",
    "vol_1217<-xcdl_volume_pre[1]\n",
    "var_xcdl_13<-abs(fit1$coefficients[1]+fit1$coefficients[2]*vol_1217)\n",
    "es_13<-sum(sloss[sloss>=var_xcdl_13])/length(sloss[sloss>var_xcdl_13])\n",
    "#0.95 10天\n",
    "vol_1226<-xcdl_volume_pre[10]\n",
    "var_xcdl_14<-abs(fit1$coefficients[1]+fit1$coefficients[2]*vol_1226)\n",
    "es_14<-sum(sloss[sloss>=var_xcdl_14])/length(sloss[sloss>var_xcdl_14])\n",
    "fit2<-rq(formula = xcdl_logreturn~xcdl_volume,tau = 0.01,data = XCDL)\n",
    "#0.99 1天\n",
    "var_xcdl_15<-abs(fit2$coefficients[1]+fit2$coefficients[2]*vol_1217)\n",
    "es_15<-sum(sloss[sloss>=var_xcdl_15])/length(sloss[sloss>var_xcdl_15])\n",
    "#0.99 10天\n",
    "var_xcdl_16<-abs(fit2$coefficients[1]+fit2$coefficients[2]*vol_1226)\n",
    "es_16<-sum(sloss[sloss>=var_xcdl_16])/length(sloss[sloss>var_xcdl_16])"
   ]
  },
  {
   "cell_type": "markdown",
   "id": "87ccf059",
   "metadata": {},
   "source": [
    "## 讨论上述根据多种方法计算得到的结果存在差异的原因"
   ]
  },
  {
   "cell_type": "code",
   "execution_count": 37,
   "id": "63c9b83e",
   "metadata": {},
   "outputs": [],
   "source": [
    "VaR_1tian_0.95<-c(var_xcdl_1,var_xcdl_2,var_xcdl_3,var_xcdl_4,\n",
    "                  var_xcdl_5,var_xcdl_7,var_xcdl_9,var_xcdl_13)\n",
    "VaR_1tian_0.99<-c(var_1_xcdl_1,var_1_xcdl_2,var_1_xcdl_3,var_1_xcdl_4,\n",
    "                  var_xcdl_6,var_xcdl_8,var_xcdl_10,var_xcdl_15)\n",
    "VaR_10tian_0.95<-c(var_xcdl_5_1,var_xcdl_17,var_xcdl_11,var_xcdl_14)\n",
    "VaR_10tian_0.99<-c(var_xcdl_6_1,var_xcdl_18,var_xcdl_12,var_xcdl_16)\n",
    "VaR_1tian_0.95<-setNames(VaR_1tian_0.95,name1)\n",
    "VaR_1tian_0.99<-setNames(VaR_1tian_0.99,name1)\n",
    "VaR_10tian_0.95<-setNames(VaR_10tian_0.95,name2)\n",
    "VaR_10tian_0.99<-setNames(VaR_10tian_0.99,name2)\n",
    "ES_1tian_0.95<-c(es_1,es_2,es_3,es_4,es_5,es_7,es_9,es_13)\n",
    "ES_1tian_0.99<-c(es_1_1,es_1_2,es_1_3,es_1_4,es_6,es_8,es_10,es_15)\n",
    "ES_10tian_0.95<-c(es_5_1,es_17,es_11,es_14)\n",
    "ES_10tian_0.99<-c(es_6_1,es_18,es_12,es_16)\n",
    "ES_1tian_0.95<-setNames(ES_1tian_0.95,name1)\n",
    "ES_1tian_0.99<-setNames(ES_1tian_0.99,name1)\n",
    "ES_10tian_0.95<-setNames(ES_10tian_0.95,name2)\n",
    "ES_10tian_0.99<-setNames(ES_10tian_0.99,name2)"
   ]
  },
  {
   "cell_type": "code",
   "execution_count": 38,
   "id": "4298d583",
   "metadata": {},
   "outputs": [],
   "source": [
    "dat1<-cbind(VaR_1tian_0.95,VaR_1tian_0.99)\n",
    "dat2<-cbind(ES_1tian_0.95,ES_1tian_0.99)\n",
    "dat3<-cbind(VaR_10tian_0.95,VaR_10tian_0.99)\n",
    "dat4<-cbind(ES_10tian_0.95,ES_10tian_0.99)"
   ]
  },
  {
   "cell_type": "code",
   "execution_count": 39,
   "id": "d6328bbf",
   "metadata": {},
   "outputs": [
    {
     "data": {
      "text/html": [
       "<table class=\"dataframe\">\n",
       "<caption>A matrix: 8 × 2 of type dbl</caption>\n",
       "<thead>\n",
       "\t<tr><th></th><th scope=col>VaR_1tian_0.95</th><th scope=col>VaR_1tian_0.99</th></tr>\n",
       "</thead>\n",
       "<tbody>\n",
       "\t<tr><th scope=row>delta normal方法1</th><td>0.04480847</td><td>0.06337870</td></tr>\n",
       "\t<tr><th scope=row>delta normal方法2</th><td>0.04483370</td><td>0.06340393</td></tr>\n",
       "\t<tr><th scope=row>历史模拟法</th><td>0.04390758</td><td>0.07180222</td></tr>\n",
       "\t<tr><th scope=row>Monte Cralo</th><td>0.04480512</td><td>0.06336238</td></tr>\n",
       "\t<tr><th scope=row>风险度量制</th><td>0.07760877</td><td>0.10976356</td></tr>\n",
       "\t<tr><th scope=row>GARCH模型-Norm</th><td>0.07836319</td><td>0.11083056</td></tr>\n",
       "\t<tr><th scope=row>GARCH模型-Std</th><td>0.09127142</td><td>0.12908692</td></tr>\n",
       "\t<tr><th scope=row>分位数回归法</th><td>0.03602478</td><td>0.06559182</td></tr>\n",
       "</tbody>\n",
       "</table>\n"
      ],
      "text/latex": [
       "A matrix: 8 × 2 of type dbl\n",
       "\\begin{tabular}{r|ll}\n",
       "  & VaR\\_1tian\\_0.95 & VaR\\_1tian\\_0.99\\\\\n",
       "\\hline\n",
       "\tdelta normal方法1 & 0.04480847 & 0.06337870\\\\\n",
       "\tdelta normal方法2 & 0.04483370 & 0.06340393\\\\\n",
       "\t历史模拟法 & 0.04390758 & 0.07180222\\\\\n",
       "\tMonte Cralo & 0.04480512 & 0.06336238\\\\\n",
       "\t风险度量制 & 0.07760877 & 0.10976356\\\\\n",
       "\tGARCH模型-Norm & 0.07836319 & 0.11083056\\\\\n",
       "\tGARCH模型-Std & 0.09127142 & 0.12908692\\\\\n",
       "\t分位数回归法 & 0.03602478 & 0.06559182\\\\\n",
       "\\end{tabular}\n"
      ],
      "text/markdown": [
       "\n",
       "A matrix: 8 × 2 of type dbl\n",
       "\n",
       "| <!--/--> | VaR_1tian_0.95 | VaR_1tian_0.99 |\n",
       "|---|---|---|\n",
       "| delta normal方法1 | 0.04480847 | 0.06337870 |\n",
       "| delta normal方法2 | 0.04483370 | 0.06340393 |\n",
       "| 历史模拟法 | 0.04390758 | 0.07180222 |\n",
       "| Monte Cralo | 0.04480512 | 0.06336238 |\n",
       "| 风险度量制 | 0.07760877 | 0.10976356 |\n",
       "| GARCH模型-Norm | 0.07836319 | 0.11083056 |\n",
       "| GARCH模型-Std | 0.09127142 | 0.12908692 |\n",
       "| 分位数回归法 | 0.03602478 | 0.06559182 |\n",
       "\n"
      ],
      "text/plain": [
       "                  VaR_1tian_0.95 VaR_1tian_0.99\n",
       "delta normal方法1 0.04480847     0.06337870    \n",
       "delta normal方法2 0.04483370     0.06340393    \n",
       "历史模拟法        0.04390758     0.07180222    \n",
       "Monte Cralo       0.04480512     0.06336238    \n",
       "风险度量制        0.07760877     0.10976356    \n",
       "GARCH模型-Norm    0.07836319     0.11083056    \n",
       "GARCH模型-Std     0.09127142     0.12908692    \n",
       "分位数回归法      0.03602478     0.06559182    "
      ]
     },
     "metadata": {},
     "output_type": "display_data"
    }
   ],
   "source": [
    "dat1"
   ]
  },
  {
   "cell_type": "code",
   "execution_count": 40,
   "id": "6322ac59",
   "metadata": {},
   "outputs": [
    {
     "data": {
      "text/html": [
       "<table class=\"dataframe\">\n",
       "<caption>A matrix: 8 × 2 of type dbl</caption>\n",
       "<thead>\n",
       "\t<tr><th></th><th scope=col>ES_1tian_0.95</th><th scope=col>ES_1tian_0.99</th></tr>\n",
       "</thead>\n",
       "<tbody>\n",
       "\t<tr><th scope=row>delta normal方法1</th><td>0.06319050</td><td>0.08346417</td></tr>\n",
       "\t<tr><th scope=row>delta normal方法2</th><td>0.06319050</td><td>0.08346417</td></tr>\n",
       "\t<tr><th scope=row>历史模拟法</th><td>0.06257801</td><td>0.09363884</td></tr>\n",
       "\t<tr><th scope=row>Monte Cralo</th><td>0.06319050</td><td>0.08346417</td></tr>\n",
       "\t<tr><th scope=row>风险度量制</th><td>0.09732453</td><td>0.02515044</td></tr>\n",
       "\t<tr><th scope=row>GARCH模型-Norm</th><td>0.09827060</td><td>0.12697464</td></tr>\n",
       "\t<tr><th scope=row>GARCH模型-Std</th><td>0.11445805</td><td>0.14789030</td></tr>\n",
       "\t<tr><th scope=row>分位数回归法</th><td>0.05674244</td><td>0.08444080</td></tr>\n",
       "</tbody>\n",
       "</table>\n"
      ],
      "text/latex": [
       "A matrix: 8 × 2 of type dbl\n",
       "\\begin{tabular}{r|ll}\n",
       "  & ES\\_1tian\\_0.95 & ES\\_1tian\\_0.99\\\\\n",
       "\\hline\n",
       "\tdelta normal方法1 & 0.06319050 & 0.08346417\\\\\n",
       "\tdelta normal方法2 & 0.06319050 & 0.08346417\\\\\n",
       "\t历史模拟法 & 0.06257801 & 0.09363884\\\\\n",
       "\tMonte Cralo & 0.06319050 & 0.08346417\\\\\n",
       "\t风险度量制 & 0.09732453 & 0.02515044\\\\\n",
       "\tGARCH模型-Norm & 0.09827060 & 0.12697464\\\\\n",
       "\tGARCH模型-Std & 0.11445805 & 0.14789030\\\\\n",
       "\t分位数回归法 & 0.05674244 & 0.08444080\\\\\n",
       "\\end{tabular}\n"
      ],
      "text/markdown": [
       "\n",
       "A matrix: 8 × 2 of type dbl\n",
       "\n",
       "| <!--/--> | ES_1tian_0.95 | ES_1tian_0.99 |\n",
       "|---|---|---|\n",
       "| delta normal方法1 | 0.06319050 | 0.08346417 |\n",
       "| delta normal方法2 | 0.06319050 | 0.08346417 |\n",
       "| 历史模拟法 | 0.06257801 | 0.09363884 |\n",
       "| Monte Cralo | 0.06319050 | 0.08346417 |\n",
       "| 风险度量制 | 0.09732453 | 0.02515044 |\n",
       "| GARCH模型-Norm | 0.09827060 | 0.12697464 |\n",
       "| GARCH模型-Std | 0.11445805 | 0.14789030 |\n",
       "| 分位数回归法 | 0.05674244 | 0.08444080 |\n",
       "\n"
      ],
      "text/plain": [
       "                  ES_1tian_0.95 ES_1tian_0.99\n",
       "delta normal方法1 0.06319050    0.08346417   \n",
       "delta normal方法2 0.06319050    0.08346417   \n",
       "历史模拟法        0.06257801    0.09363884   \n",
       "Monte Cralo       0.06319050    0.08346417   \n",
       "风险度量制        0.09732453    0.02515044   \n",
       "GARCH模型-Norm    0.09827060    0.12697464   \n",
       "GARCH模型-Std     0.11445805    0.14789030   \n",
       "分位数回归法      0.05674244    0.08444080   "
      ]
     },
     "metadata": {},
     "output_type": "display_data"
    }
   ],
   "source": [
    "dat2"
   ]
  },
  {
   "cell_type": "code",
   "execution_count": 35,
   "id": "869d61f1",
   "metadata": {},
   "outputs": [
    {
     "data": {
      "text/html": [
       "<table class=\"dataframe\">\n",
       "<caption>A matrix: 4 × 2 of type dbl</caption>\n",
       "<thead>\n",
       "\t<tr><th></th><th scope=col>VaR_10tian_0.95</th><th scope=col>VaR_10tian_0.99</th></tr>\n",
       "</thead>\n",
       "<tbody>\n",
       "\t<tr><th scope=row>风险度量制</th><td>0.2454205</td><td>0.34710286</td></tr>\n",
       "\t<tr><th scope=row>GARCH模型-Norm</th><td>0.2179042</td><td>0.34686023</td></tr>\n",
       "\t<tr><th scope=row>GARCH模型-Std</th><td>0.2455758</td><td>0.44079059</td></tr>\n",
       "\t<tr><th scope=row>分位数回归法</th><td>0.0369250</td><td>0.06725244</td></tr>\n",
       "</tbody>\n",
       "</table>\n"
      ],
      "text/latex": [
       "A matrix: 4 × 2 of type dbl\n",
       "\\begin{tabular}{r|ll}\n",
       "  & VaR\\_10tian\\_0.95 & VaR\\_10tian\\_0.99\\\\\n",
       "\\hline\n",
       "\t风险度量制 & 0.2454205 & 0.34710286\\\\\n",
       "\tGARCH模型-Norm & 0.2179042 & 0.34686023\\\\\n",
       "\tGARCH模型-Std & 0.2455758 & 0.44079059\\\\\n",
       "\t分位数回归法 & 0.0369250 & 0.06725244\\\\\n",
       "\\end{tabular}\n"
      ],
      "text/markdown": [
       "\n",
       "A matrix: 4 × 2 of type dbl\n",
       "\n",
       "| <!--/--> | VaR_10tian_0.95 | VaR_10tian_0.99 |\n",
       "|---|---|---|\n",
       "| 风险度量制 | 0.2454205 | 0.34710286 |\n",
       "| GARCH模型-Norm | 0.2179042 | 0.34686023 |\n",
       "| GARCH模型-Std | 0.2455758 | 0.44079059 |\n",
       "| 分位数回归法 | 0.0369250 | 0.06725244 |\n",
       "\n"
      ],
      "text/plain": [
       "               VaR_10tian_0.95 VaR_10tian_0.99\n",
       "风险度量制     0.2454205       0.34710286     \n",
       "GARCH模型-Norm 0.2179042       0.34686023     \n",
       "GARCH模型-Std  0.2455758       0.44079059     \n",
       "分位数回归法   0.0369250       0.06725244     "
      ]
     },
     "metadata": {},
     "output_type": "display_data"
    }
   ],
   "source": [
    "dat3"
   ]
  },
  {
   "cell_type": "code",
   "execution_count": 36,
   "id": "94ccaad2",
   "metadata": {},
   "outputs": [
    {
     "data": {
      "text/html": [
       "<table class=\"dataframe\">\n",
       "<caption>A matrix: 4 × 2 of type dbl</caption>\n",
       "<thead>\n",
       "\t<tr><th></th><th scope=col>ES_10tian_0.95</th><th scope=col>ES_10tian_0.99</th></tr>\n",
       "</thead>\n",
       "<tbody>\n",
       "\t<tr><th scope=row>风险度量制</th><td>0.3077672</td><td>0.07953269</td></tr>\n",
       "\t<tr><th scope=row>GARCH模型-Norm</th><td>0.3001773</td><td>0.44147328</td></tr>\n",
       "\t<tr><th scope=row>GARCH模型-Std</th><td>0.3771026</td><td>0.62990207</td></tr>\n",
       "\t<tr><th scope=row>分位数回归法</th><td>0.0575210</td><td>0.08766893</td></tr>\n",
       "</tbody>\n",
       "</table>\n"
      ],
      "text/latex": [
       "A matrix: 4 × 2 of type dbl\n",
       "\\begin{tabular}{r|ll}\n",
       "  & ES\\_10tian\\_0.95 & ES\\_10tian\\_0.99\\\\\n",
       "\\hline\n",
       "\t风险度量制 & 0.3077672 & 0.07953269\\\\\n",
       "\tGARCH模型-Norm & 0.3001773 & 0.44147328\\\\\n",
       "\tGARCH模型-Std & 0.3771026 & 0.62990207\\\\\n",
       "\t分位数回归法 & 0.0575210 & 0.08766893\\\\\n",
       "\\end{tabular}\n"
      ],
      "text/markdown": [
       "\n",
       "A matrix: 4 × 2 of type dbl\n",
       "\n",
       "| <!--/--> | ES_10tian_0.95 | ES_10tian_0.99 |\n",
       "|---|---|---|\n",
       "| 风险度量制 | 0.3077672 | 0.07953269 |\n",
       "| GARCH模型-Norm | 0.3001773 | 0.44147328 |\n",
       "| GARCH模型-Std | 0.3771026 | 0.62990207 |\n",
       "| 分位数回归法 | 0.0575210 | 0.08766893 |\n",
       "\n"
      ],
      "text/plain": [
       "               ES_10tian_0.95 ES_10tian_0.99\n",
       "风险度量制     0.3077672      0.07953269    \n",
       "GARCH模型-Norm 0.3001773      0.44147328    \n",
       "GARCH模型-Std  0.3771026      0.62990207    \n",
       "分位数回归法   0.0575210      0.08766893    "
      ]
     },
     "metadata": {},
     "output_type": "display_data"
    }
   ],
   "source": [
    "dat4"
   ]
  },
  {
   "cell_type": "markdown",
   "id": "a2e11158",
   "metadata": {},
   "source": [
    "### VaR差异比较\n",
    "- 在一天 尾部概率为0.05的情况下：delta normal方法、历史模拟法、Monte Cralo方法计算的VaR相差很小，风险度量制的计算结果高于其他方法，GARCH模型在正态分布情况下与风险度量制结果差异小，最大值是GARCH模型在标准t分布情况下计算得到的，分位数回归法VaR的值最小\n",
    "- 在一天 尾部概率为0.01的情况下：delta normal方法、历史模拟法、Monte Cralo方法计算、分位数回归的VaR相差很小，风险度量制的计算结果高于其他方法，GARCH模型计算结果差异不大，但高于其他方法结果\n",
    "- 在多期的情况下，风险度量制，GARCH模型的计算结果差异很小，但分位数回归计算的结果要小得多"
   ]
  },
  {
   "cell_type": "markdown",
   "id": "803af69a",
   "metadata": {},
   "source": [
    "### ES差异比较\n",
    "- 在一天 尾部概率为0.05的情况下：delta normal方法、历史模拟法、Monte Cralo方法计算的ES相差很小,风险度量制的计算结果高于其他方法，GARCH模型在正态分布情况下与风险度量制结果差异小，最大值是GARCH模型在标准t分布情况下计算得到的，分位数回归法ES的值最小\n",
    "- 在一天 尾部概率为0.01的情况下：delta normal方法、分位数回归法、Monte Cralo方法计算所得的ES也是较为接近的历史模拟法略高于上述三种方法，风险度量制的计算结果最小，GARCH模型计算结果差异不大，但大于其他方法结果，最大值是GARCH模型在标准t分布情况下计算得到的\n",
    "- 在十天 尾部概率为0.05的情况下：风险度量制，GARCH模型的计算结果差异很小，但分位数回归计算的结果要小得多\n",
    "- 在十天 尾部概率为0.01的情况下：风险度量制，分位数回归法的计算结果差异很小，但GARCH计算的结果要大得多"
   ]
  },
  {
   "cell_type": "markdown",
   "id": "14f9da66",
   "metadata": {},
   "source": [
    "### 产生差异可能的原因：\n",
    "- 1、证券收益率的分布可能不具有厚尾效应\n",
    "- 2、模型对于收益分布的假设不正确\n",
    "- 3、GARCH模型不充分，模型拟合效果差\n",
    "- 4、分位数回归在q接近1是变得难以估计，对于一个很大的q缺乏观测值，回归结果变得无信息 "
   ]
  }
 ],
 "metadata": {
  "kernelspec": {
   "display_name": "R",
   "language": "R",
   "name": "ir"
  },
  "language_info": {
   "codemirror_mode": "r",
   "file_extension": ".r",
   "mimetype": "text/x-r-source",
   "name": "R",
   "pygments_lexer": "r",
   "version": "4.2.2"
  }
 },
 "nbformat": 4,
 "nbformat_minor": 5
}
